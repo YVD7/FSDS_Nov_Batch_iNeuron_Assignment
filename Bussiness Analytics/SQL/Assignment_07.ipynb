{
 "cells": [
  {
   "cell_type": "markdown",
   "metadata": {},
   "source": [
    "# Assignment 07"
   ]
  },
  {
   "cell_type": "markdown",
   "metadata": {},
   "source": []
  },
  {
   "cell_type": "markdown",
   "metadata": {},
   "source": [
    "Q13. Write an SQL query to show only odd rows from a table.\n",
    "\n",
    "Ans: SELECT * FROM Worker WHERE MOD(worker_id,2) = 1"
   ]
  },
  {
   "cell_type": "markdown",
   "metadata": {},
   "source": []
  },
  {
   "cell_type": "markdown",
   "metadata": {},
   "source": [
    "Q14. Write an SQL query to clone a new talbe from another table."
   ]
  },
  {
   "cell_type": "code",
   "execution_count": null,
   "metadata": {},
   "outputs": [],
   "source": [
    "# Code to Create a New table\n",
    "\n",
    "\n",
    "CREATE TABLE CloneWorker(\n",
    "    WORKER_ID INT NOT NULL AUTO INCREMENT PRIMARY KEY,\n",
    "    FIRST_NAME VARCHAR(50),\n",
    "    LAST_NAME VARCHAR(50),\n",
    "    SALARY INT,\n",
    "    DEPARTMENT VARCHAR(50),\n",
    "    JOINING_DATE DATETIME\n",
    ");\n",
    "\n",
    "# Code to Clone connect of a table to another table\n",
    "INSERT INTO CloneWorker SELECT * FROM Worker;"
   ]
  }
 ],
 "metadata": {
  "kernelspec": {
   "display_name": "Python 3.8.10 64-bit",
   "language": "python",
   "name": "python3"
  },
  "language_info": {
   "codemirror_mode": {
    "name": "ipython",
    "version": 3
   },
   "file_extension": ".py",
   "mimetype": "text/x-python",
   "name": "python",
   "nbconvert_exporter": "python",
   "pygments_lexer": "ipython3",
   "version": "3.8.10"
  },
  "orig_nbformat": 4,
  "vscode": {
   "interpreter": {
    "hash": "916dbcbb3f70747c44a77c7bcd40155683ae19c65e1c03b4aa3499c5328201f1"
   }
  }
 },
 "nbformat": 4,
 "nbformat_minor": 2
}
