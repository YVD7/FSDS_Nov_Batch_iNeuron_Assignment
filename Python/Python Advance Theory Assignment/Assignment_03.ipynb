{
 "cells": [
  {
   "cell_type": "markdown",
   "metadata": {},
   "source": [
    "# Assignment 03"
   ]
  },
  {
   "cell_type": "markdown",
   "metadata": {},
   "source": []
  },
  {
   "cell_type": "markdown",
   "metadata": {},
   "source": [
    "Question1.\n",
    "\n",
    "What is the concept of an abstract superclass?\n",
    "\n",
    "Ans:\n",
    "\n",
    "An abstract class/superclass can be considered as a blueprint for other classes. It allows you to create a set methods that must be created with any child classes built from the abstract class. A class which contians one or more abstract methods is called an abstract class.\n",
    "\n",
    "\n",
    "Whereas an abstract method is a method that has a declaration but does not have an implemetation"
   ]
  },
  {
   "cell_type": "code",
   "execution_count": null,
   "metadata": {},
   "outputs": [],
   "source": [
    "from abc import ABC, abstractclassmethod, abstractmethod\n",
    "class Polygon(ABC): # Abstract Class\n",
    "    @abstractmethod\n",
    "    def noofsides(self): # Abstract Method\n",
    "        pass\n",
    "    \n",
    "class Traingle(Polygon):\n",
    "    def noofside(self): # overring abstract method in child class Traingle\n",
    "        print(\"I hae 3 sides\")\n",
    "class Pentagon(Polygon):\n",
    "    def noofsides(self): # overridign abstract method in child class Trinagle\n",
    "        print(\"I have 5 sides\")"
   ]
  },
  {
   "cell_type": "markdown",
   "metadata": {},
   "source": []
  },
  {
   "cell_type": "markdown",
   "metadata": {},
   "source": [
    "Question2.\n",
    "\n",
    "What happens when a class statment's top level contains a basic assignment statement?\n",
    "\n",
    "Ans:\n",
    "\n",
    "When a Class statement's top level contains  a basic assignment statement, its usually treated as a class attribute or class level variable.\n",
    "\n",
    "where as assignment statements inside methods are treated as instance attributes or local attributes.\n",
    "\n",
    "When an instance of a class is created a single copy of class attributese is maintined and shared to all instance of class. where as each instance object maintain it's own copy of instance variables.\n"
   ]
  },
  {
   "cell_type": "code",
   "execution_count": null,
   "metadata": {},
   "outputs": [],
   "source": [
    "class Persoon:\n",
    "    species  =  'Homesapiens' # class attribute\n",
    "    def __init__(self, name, gender):\n",
    "        self.name = name # instance attriubtes\n",
    "        self.gender = gender"
   ]
  },
  {
   "cell_type": "markdown",
   "metadata": {},
   "source": []
  },
  {
   "cell_type": "markdown",
   "metadata": {},
   "source": [
    "Question3.\n",
    "\n",
    "Why does a class need to manually class a superclass's **`__init__`** method?\n",
    "\n",
    "Ans:\n",
    "\n",
    "if a child class has **`__init__`** method, then it  will not inherit the **`__init__`** method of the parent class. In toher words the **`__init__`** method of the child class overrides the **`__init__`** method of the parent class. So we have to mannuallt call a prent superclass's **`__init__`** using **`super()`** method "
   ]
  },
  {
   "cell_type": "code",
   "execution_count": 2,
   "metadata": {},
   "outputs": [
    {
     "name": "stdout",
     "output_type": "stream",
     "text": [
      "{'name': 'Vivek', 'age': 28, 'salary': 200000}\n"
     ]
    }
   ],
   "source": [
    "class Person:\n",
    "    def __init__(self,name, age):\n",
    "        self.name = name\n",
    "        self.age = age\n",
    "class Employee(Person):\n",
    "    def __init__(self, name, age, salary):\n",
    "        super().__init__(name, age)\n",
    "        self.salary = salary\n",
    "emp_1 = Employee('Vivek',28,200000)\n",
    "print(emp_1.__dict__)"
   ]
  },
  {
   "cell_type": "markdown",
   "metadata": {},
   "source": []
  },
  {
   "cell_type": "markdown",
   "metadata": {},
   "source": [
    "Question4.\n",
    "\n",
    "How can you augment, insted of completely replacing, inherited method?\n",
    "\n",
    "Ans: **`super()`** method can be used to agument, instead of completely replacing, an inherited method."
   ]
  },
  {
   "cell_type": "code",
   "execution_count": 3,
   "metadata": {},
   "outputs": [
    {
     "name": "stdout",
     "output_type": "stream",
     "text": [
      "{'name': 'Vivek', 'gender': 'Male', 'salary': 100000}\n"
     ]
    }
   ],
   "source": [
    "class Person:\n",
    "    def __init__(self, name, gender):\n",
    "        self.name = name\n",
    "        self.gender = gender\n",
    "class Employee(Person):\n",
    "    def __init__(self, name, gender, salary):\n",
    "        super().__init__(name, gender)\n",
    "        self.salary = salary\n",
    "emp_1 = Employee('Vivek','Male',100000)\n",
    "print(emp_1.__dict__)"
   ]
  },
  {
   "cell_type": "markdown",
   "metadata": {},
   "source": []
  },
  {
   "cell_type": "markdown",
   "metadata": {},
   "source": [
    "Question5.\n",
    "\n",
    "How is the local scope of a class different from that of function?\n",
    "\n",
    "Ans: A Variable which is defined inside a function is local to that function. It is accessible from the point at which it is defined until the end of the function, and exists for as long as the function is existing.\n",
    "\n",
    "Similarly a variabel inside of a class has a local variable scope. Variables which are difined in the class body (but outside all methods) are called as class level attributes. they can be refrerenced by there bare names within the same socpe, but they can also be accessed from outside this scope if we use the attribute access operator **` (.) `** on a class or instance of the class."
   ]
  },
  {
   "cell_type": "code",
   "execution_count": 5,
   "metadata": {},
   "outputs": [
    {
     "name": "stdout",
     "output_type": "stream",
     "text": [
      "you're name is Yash Dawande\n",
      "HomeSapiens\n",
      "HomeSapiens\n"
     ]
    }
   ],
   "source": [
    "\n",
    "def hello(name):\n",
    "    name = name\n",
    "    print(f'you\\'re name is {name}')\n",
    "hello('Yash Dawande')\n",
    "try:\n",
    "    name\n",
    "except NameError:\n",
    "    print('Name variable is not available outside hello function scope')\n",
    "\n",
    "class Person:\n",
    "    species = \"HomeSapiens\"\n",
    "    def __init__(self):\n",
    "        pass\n",
    "print(Person.species) # Accessing species using class name\n",
    "Male = Person()\n",
    "print(Male.species) # Accessing species using instance of class"
   ]
  },
  {
   "cell_type": "markdown",
   "metadata": {},
   "source": []
  }
 ],
 "metadata": {
  "kernelspec": {
   "display_name": "Python 3.8.10 64-bit",
   "language": "python",
   "name": "python3"
  },
  "language_info": {
   "codemirror_mode": {
    "name": "ipython",
    "version": 3
   },
   "file_extension": ".py",
   "mimetype": "text/x-python",
   "name": "python",
   "nbconvert_exporter": "python",
   "pygments_lexer": "ipython3",
   "version": "3.8.10"
  },
  "orig_nbformat": 4,
  "vscode": {
   "interpreter": {
    "hash": "916dbcbb3f70747c44a77c7bcd40155683ae19c65e1c03b4aa3499c5328201f1"
   }
  }
 },
 "nbformat": 4,
 "nbformat_minor": 2
}
