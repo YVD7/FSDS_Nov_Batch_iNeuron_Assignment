{
 "cells": [
  {
   "cell_type": "markdown",
   "metadata": {},
   "source": [
    "# Assignment 01"
   ]
  },
  {
   "cell_type": "markdown",
   "metadata": {},
   "source": []
  },
  {
   "cell_type": "markdown",
   "metadata": {},
   "source": [
    "Question1. \n",
    "\n",
    "What is the purpose of Python's OOP?\n",
    "\n",
    "\n",
    "Ans:\n",
    "\n",
    "Object-oriented programming paradigm that provides a means of structuring programs so that properties and behaviors are bundled into individual objects\n",
    "\n",
    "- In Python, Object-oriented Program (OOPs) uses objects and classes in programming.\n",
    "\n",
    "- It aims to implement real-world entities like inheritance, polymorphism, encapsulation,etc. in the programming\n",
    "\n",
    "- The main concept of OOPs is to bind the data and the functions that works access this data.\n",
    "\n",
    "- It comes up with the following advantabes:\n",
    "\n",
    "- It helps to divide our over all prgram into different small sements and thus making it solving easy with the use of objects\n",
    "\n",
    "- Helps in easy maintenance and modification of existing program \n",
    "\n",
    "- Multiple instance of an obhect can made.\n"
   ]
  },
  {
   "cell_type": "markdown",
   "metadata": {},
   "source": []
  },
  {
   "cell_type": "markdown",
   "metadata": {},
   "source": [
    "Question2.\n",
    "\n",
    "Where does an inheritance search look for an attribute?\n",
    "\n",
    "Ans:\n",
    "\n",
    "Python searches for an attribute in an upward tree attributes . In first searches for the attribute in its instance and then look in the class it is generated from, to all super classes listed in its class header"
   ]
  },
  {
   "cell_type": "markdown",
   "metadata": {},
   "source": []
  },
  {
   "cell_type": "markdown",
   "metadata": {},
   "source": [
    "Question3.\n",
    "\n",
    "How do you distinguish between a class object and an instance object?\n",
    "\n",
    "\n",
    "Ans: \n",
    "\n",
    "The differences between a class object and instance object are:\n",
    "\n",
    "1. Class is template for creating objects whereas object is an instance of class\n",
    "\n",
    "2. Separate memory is allocated for each object whenever an object is creted. but for a class this doesnot happens.\n",
    "\n",
    "3. A class is created once. Many objects are created using a class.\n",
    "\n",
    "4. As classes have no allocated memory. They can't be maipulated. But objects can be manipulated."
   ]
  },
  {
   "cell_type": "markdown",
   "metadata": {},
   "source": []
  },
  {
   "cell_type": "markdown",
   "metadata": {},
   "source": [
    "Question4. \n",
    "\n",
    "What makes the first argument in a class's method function special?\n",
    "\n",
    "Ans :\n",
    "\n",
    "Python Classes usually have three types of methods which are:\n",
    "\n",
    "- Instance Method (object level method)\n",
    "- Class Method (class level methods)\n",
    "- Static Methods (general utility methods)\n",
    "- Self is the first argument for instance methods. \n",
    "which refers to object self\n",
    "- cls is the first argument for class method which refers to the class itself"
   ]
  },
  {
   "cell_type": "markdown",
   "metadata": {},
   "source": []
  },
  {
   "cell_type": "markdown",
   "metadata": {},
   "source": [
    "Question5.\n",
    "\n",
    "What is the process for creating a class instance?\n",
    "\n",
    "Ans: \n",
    "\n",
    "To create a classs instance, we need to call the class by its name and pass the arguments to the class, whicyh its init method accepts.\n",
    "\n",
    "Example:\n",
    "\n",
    "my_name = my_class(\"Yash\",\"Dawande\") Here my_name is an instance of class my_class with attributes \"Yash\" and \"Dawande\"."
   ]
  },
  {
   "cell_type": "markdown",
   "metadata": {},
   "source": []
  },
  {
   "cell_type": "markdown",
   "metadata": {},
   "source": [
    "Question7.\n",
    "\n",
    "What is the process for creating a class?\n",
    "\n",
    "Ans:\n",
    "\n",
    "class keyword is used to created a class in python. The syntax to created a clas in python class <classname>:\n",
    "\n",
    "Example:\n",
    "\n",
    "class Car: >>> This creates a class called Car"
   ]
  },
  {
   "cell_type": "markdown",
   "metadata": {},
   "source": []
  },
  {
   "cell_type": "markdown",
   "metadata": {},
   "source": [
    "Question8.\n",
    "\n",
    "How would you define the superclasses of a class?\n",
    "\n",
    "Ans: \n",
    "\n",
    "Superclass/Parent class is given as a argument to the child class\n",
    "\n",
    "Example:\n",
    "\n",
    "Classs Employee (person): Here child class Employee inherist attributes and methods from superclass/Parent Person\n",
    "\n"
   ]
  }
 ],
 "metadata": {
  "kernelspec": {
   "display_name": "Python 3.8.10 64-bit",
   "language": "python",
   "name": "python3"
  },
  "language_info": {
   "name": "python",
   "version": "3.8.10"
  },
  "orig_nbformat": 4,
  "vscode": {
   "interpreter": {
    "hash": "916dbcbb3f70747c44a77c7bcd40155683ae19c65e1c03b4aa3499c5328201f1"
   }
  }
 },
 "nbformat": 4,
 "nbformat_minor": 2
}
