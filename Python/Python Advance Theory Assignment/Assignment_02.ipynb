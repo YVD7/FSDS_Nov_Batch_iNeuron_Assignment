{
 "cells": [
  {
   "cell_type": "markdown",
   "metadata": {},
   "source": [
    "# Assignment 02"
   ]
  },
  {
   "cell_type": "markdown",
   "metadata": {},
   "source": []
  },
  {
   "cell_type": "markdown",
   "metadata": {},
   "source": [
    "Question1.\n",
    "\n",
    "What is the relationship between classes and modules?\n",
    "\n",
    "\n",
    "Ans: A Python class is like an outline/blueprint/mold for creating a new object. An object is anything that you wish to manipulate or change while working throught the code. Every time a class object is instantiated which is when we delcare a veriable, a new object is initiated from scratch\n",
    "\n",
    "Where as in Python, Modules are simply files with .py extension containing Python code that can be imported inside another python program. In simple terms, we can consider a module to be the same as a code library or a file that contains a set of functons/ classes that you want to include in your application."
   ]
  },
  {
   "cell_type": "markdown",
   "metadata": {},
   "source": []
  },
  {
   "cell_type": "markdown",
   "metadata": {},
   "source": [
    "Question2.\n",
    "\n",
    "How do you make instances and classes?\n",
    "\n",
    "\n",
    "Ans: For creating a class instance. We call a class by it's name and pass arguments which its **`__init__`** method accepts.\n",
    "\n",
    "Example: vishwak = employee('Male',20000), Here vishwak is an instances of class employee with attributes 'Male' and 20000\n",
    "\n",
    "\n",
    "Whereas for creating a class, we use the Class keyword. Class keyword is followed by classname and semicolon.\n",
    "\n",
    "Example: Here Employee is a class created with class keyword with arguments gneder and salary.\n",
    "\n",
    "class Employee: \n",
    "\n",
    "        def __init__(self, gender, salary):\n",
    "                \n",
    "                self.gender = gender \n",
    "\n",
    "                self.salary = salary"
   ]
  },
  {
   "cell_type": "markdown",
   "metadata": {},
   "source": []
  },
  {
   "cell_type": "markdown",
   "metadata": {},
   "source": [
    "Question3.\n",
    "\n",
    "Where and how should be class attributes created?\n",
    "\n",
    "Ans:\n",
    "\n",
    "Class attributes or Class level Attributes belong to the class itself. these attributes will be shared by all the instance of the class. Hence these attributes are usually created/ defined in the top of class defination outside all methods.\n",
    "\n",
    "\n",
    "Example: In the below code we are difining a class attributes called no_of_wheels which will be shared by all the instances of the class Car\n"
   ]
  },
  {
   "cell_type": "code",
   "execution_count": null,
   "metadata": {},
   "outputs": [],
   "source": [
    "class Car:\n",
    "    no_of_wheels = 4; # this is a class attribute\n",
    "    def __init__(self, color, price,engine):\n",
    "        self.color = color # All this are instance attributes\n",
    "        self.price = price\n",
    "        self.engine = engine"
   ]
  },
  {
   "cell_type": "markdown",
   "metadata": {},
   "source": []
  },
  {
   "cell_type": "markdown",
   "metadata": {},
   "source": [
    "Question4.\n",
    "\n",
    "Where and how are instance attributes created?\n",
    "\n",
    "Ans:\n",
    "\n",
    "Instances attributes are passes to the class when an object of the class created. Unlike class attributes, instance attributes are to shated by all objects at object level. whereas incase of class attributes all instances of class refer to single copy Usually instance attributes are defined within the **`__init__`** method of class\n",
    "\n",
    "\n",
    "Example:\n",
    "\n",
    "In the below smaple code we are creating a class Car with instance variables color, price, engine, which will be provided when an instance of class Car is created."
   ]
  },
  {
   "cell_type": "code",
   "execution_count": 2,
   "metadata": {},
   "outputs": [],
   "source": [
    "class Car:\n",
    "    def __init__(self, color, price, engine):\n",
    "        self.color = color # all this are instance attributes\n",
    "        self.price = price\n",
    "        self.engine = engine\n",
    "nexon_ev = Car('Indingo Blue', 1400000, 'electric')\n",
    "safari = Car('Pearl White', 2100000, 'petrol')\n",
    "\n",
    "# nexon_ev, safari are both instance of class Car with \n",
    "# different instance variables."
   ]
  },
  {
   "cell_type": "markdown",
   "metadata": {},
   "source": []
  },
  {
   "cell_type": "markdown",
   "metadata": {},
   "source": [
    "Question5.\n",
    "\n",
    "What does the term \"self\" in a Python class mean?\n",
    "\n",
    "Ans:\n",
    "\n",
    "**`self`** represents the instance of the class (it represents the object itself). By using the \"self\" keyword we can access the attributes and methods of arguments."
   ]
  },
  {
   "cell_type": "code",
   "execution_count": 3,
   "metadata": {},
   "outputs": [
    {
     "name": "stdout",
     "output_type": "stream",
     "text": [
      "{'color': 'Indigo Blue', 'prince': 1400000, 'engine': 'electric'}\n",
      "{'color': 'Pearl White', 'prince': 210000, 'engine': 'petrol'}\n"
     ]
    }
   ],
   "source": [
    "class Car:\n",
    "    def __init__(self, color, price, engine):\n",
    "        self.color = color # All this are instace attributes\n",
    "        self.prince = price\n",
    "        self.engine = engine\n",
    "\n",
    "nexon_ev = Car('Indigo Blue', 1400000, 'electric')\n",
    "safari = Car('Pearl White', 210000, 'petrol')\n",
    "\n",
    "print(nexon_ev.__dict__)\n",
    "print(safari.__dict__)"
   ]
  },
  {
   "cell_type": "markdown",
   "metadata": {},
   "source": []
  },
  {
   "cell_type": "markdown",
   "metadata": {},
   "source": [
    "Question6.\n",
    "\n",
    "How does a Python class handle overloading?\n",
    "\n",
    "Ans: Python Classes handle operator overloading by using special methods called **Magic Methods**. These special usually being and end with **`__`** (double underscore)\n",
    "\n",
    "Example: Magic Meothods for basic arithmetic operators are:\n",
    "\n",
    "- `+ -> __add__()`\n",
    "- `- -> __sub__()`\n",
    "- `* -> __mul__()`\n",
    "- `/ -> __div__()`"
   ]
  },
  {
   "cell_type": "code",
   "execution_count": 4,
   "metadata": {},
   "outputs": [
    {
     "name": "stdout",
     "output_type": "stream",
     "text": [
      "The total number of pages in 2 books is 300\n"
     ]
    }
   ],
   "source": [
    "class Book:\n",
    "    def __init__(self, pages):\n",
    "        self.pages = pages\n",
    "    def __add__(self, other):\n",
    "        return self.pages + other.pages\n",
    "\n",
    "b1 = Book(100)\n",
    "b2 = Book(200)\n",
    "print(f'The total number of pages in 2 books is {b1+b2}')"
   ]
  },
  {
   "cell_type": "markdown",
   "metadata": {},
   "source": []
  },
  {
   "cell_type": "markdown",
   "metadata": {},
   "source": [
    "Question7.\n",
    "\n",
    "When do you consider allowing operator overloading of your classes?\n",
    "\n",
    "Ans: \n",
    "\n",
    "When we want to hvae different meaning for the same operator according to the context we use operator overloading."
   ]
  },
  {
   "cell_type": "markdown",
   "metadata": {},
   "source": []
  },
  {
   "cell_type": "markdown",
   "metadata": {},
   "source": [
    "Question8.\n",
    "\n",
    "What is the most popular form of operator overloading?\n",
    "\n",
    "Ans:\n",
    "\n",
    "The most popular form of operator overloading in python is by special methods called **`Magic Methods.`** Which usually being and end with double underscore **`__<method name>__`**."
   ]
  },
  {
   "cell_type": "code",
   "execution_count": 5,
   "metadata": {},
   "outputs": [
    {
     "name": "stdout",
     "output_type": "stream",
     "text": [
      "Sum -> 3\n",
      "String Concatenation -> ManoVishu\n"
     ]
    }
   ],
   "source": [
    "class A:\n",
    "    def __init__(self, a):\n",
    "        self.a = a\n",
    "    def __add__(self,o):\n",
    "        return self.a+o.a\n",
    "\n",
    "obj1 = A(1)\n",
    "obj2 = A(2)\n",
    "obj3 = A('Mano')\n",
    "obj4 = A('Vishu')\n",
    "print(f'Sum -> {obj1+obj2}')\n",
    "print(f'String Concatenation -> {obj3+obj4}')"
   ]
  },
  {
   "cell_type": "markdown",
   "metadata": {},
   "source": []
  },
  {
   "cell_type": "markdown",
   "metadata": {},
   "source": [
    "Question9. \n",
    "\n",
    "What are the two most important concepts to grasp in order to comprehend Python OOP code?\n",
    "\n",
    "\n",
    "**Ans:** **Classes** and **objects** are the two concepts to comprehend python OOP code as more formally objects are entities that represent instances of general abstract concept called class\n",
    "\n",
    "Along with classes and objects the important concepts to grasp are:\n",
    "1. Inheritence\n",
    "2. Abstraction\n",
    "3. Polymorphism\n",
    "4. Encapsulation"
   ]
  }
 ],
 "metadata": {
  "kernelspec": {
   "display_name": "Python 3.7.13 ('base')",
   "language": "python",
   "name": "python3"
  },
  "language_info": {
   "codemirror_mode": {
    "name": "ipython",
    "version": 3
   },
   "file_extension": ".py",
   "mimetype": "text/x-python",
   "name": "python",
   "nbconvert_exporter": "python",
   "pygments_lexer": "ipython3",
   "version": "3.7.13"
  },
  "orig_nbformat": 4,
  "vscode": {
   "interpreter": {
    "hash": "24608bd683b051a8a00de506f187d3296bd49eaad6488801ac20452f8ab7f35a"
   }
  }
 },
 "nbformat": 4,
 "nbformat_minor": 2
}
