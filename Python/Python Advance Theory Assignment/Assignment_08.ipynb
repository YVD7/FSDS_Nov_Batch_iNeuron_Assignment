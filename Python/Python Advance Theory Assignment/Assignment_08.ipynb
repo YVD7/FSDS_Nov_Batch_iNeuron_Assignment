{
 "cells": [
  {
   "cell_type": "markdown",
   "metadata": {},
   "source": [
    "# Assignment 08"
   ]
  },
  {
   "cell_type": "markdown",
   "metadata": {},
   "source": []
  },
  {
   "cell_type": "markdown",
   "metadata": {},
   "source": [
    "Question1\n",
    "\n",
    "What are the two latest user-defined exception constraints in Python3.X?\n",
    "\n",
    "Ans:\n",
    "\n",
    "**`riase`** and **`assert`** are the two latest user-defined exception constraints in Python3.X"
   ]
  },
  {
   "cell_type": "markdown",
   "metadata": {},
   "source": []
  },
  {
   "cell_type": "markdown",
   "metadata": {},
   "source": [
    "Question2.\n",
    "\n",
    "How are class-based exceptions that have been raised matched to handlers?\n",
    "\n",
    "Ans:\n",
    "\n",
    "In python, Users can defined custom exceptions by creating a new class. This exception class has to be derived, either directly or indirectly form built-in **`Exception`** class. This new exception class like other exceptions can be raised using the **`raise`** statement with an optional error message."
   ]
  },
  {
   "cell_type": "code",
   "execution_count": 1,
   "metadata": {},
   "outputs": [
    {
     "ename": "ToYoungException",
     "evalue": "To Young For Voting",
     "output_type": "error",
     "traceback": [
      "\u001b[0;31m---------------------------------------------------------------------------\u001b[0m",
      "\u001b[0;31mToYoungException\u001b[0m                          Traceback (most recent call last)",
      "\u001b[1;32m/home/yash/FSDS_Nov_Batch_iNeuron_Assignment/Python/Python Advance Theory Assignment/Assignment_08.ipynb Cell 6\u001b[0m in \u001b[0;36m<cell line: 5>\u001b[0;34m()\u001b[0m\n\u001b[1;32m      <a href='vscode-notebook-cell:/home/yash/FSDS_Nov_Batch_iNeuron_Assignment/Python/Python%20Advance%20Theory%20Assignment/Assignment_08.ipynb#X10sZmlsZQ%3D%3D?line=2'>3</a>\u001b[0m         \u001b[39mself\u001b[39m\u001b[39m.\u001b[39mmsg \u001b[39m=\u001b[39m msg\n\u001b[1;32m      <a href='vscode-notebook-cell:/home/yash/FSDS_Nov_Batch_iNeuron_Assignment/Python/Python%20Advance%20Theory%20Assignment/Assignment_08.ipynb#X10sZmlsZQ%3D%3D?line=3'>4</a>\u001b[0m age \u001b[39m=\u001b[39m \u001b[39m12\u001b[39m\n\u001b[0;32m----> <a href='vscode-notebook-cell:/home/yash/FSDS_Nov_Batch_iNeuron_Assignment/Python/Python%20Advance%20Theory%20Assignment/Assignment_08.ipynb#X10sZmlsZQ%3D%3D?line=4'>5</a>\u001b[0m \u001b[39mif\u001b[39;00m age \u001b[39m<\u001b[39m\u001b[39m=\u001b[39m \u001b[39m18\u001b[39m: \u001b[39mraise\u001b[39;00m ToYoungException(\u001b[39m'\u001b[39m\u001b[39mTo Young For Voting\u001b[39m\u001b[39m'\u001b[39m)\n",
      "\u001b[0;31mToYoungException\u001b[0m: To Young For Voting"
     ]
    }
   ],
   "source": [
    "class ToYoungException(Exception):\n",
    "    def __init__(self, msg):\n",
    "        self.msg = msg\n",
    "age = 12\n",
    "if age <= 18: raise ToYoungException('To Young For Voting')"
   ]
  },
  {
   "cell_type": "markdown",
   "metadata": {},
   "source": []
  },
  {
   "cell_type": "markdown",
   "metadata": {},
   "source": [
    "Question3\n",
    "\n",
    "Describe two methods for attaching context infomation to exception artefacts?\n",
    "\n",
    "Ans:\n",
    "\n",
    "The **`process()`** method of LoggerAdapter is where the contextual information is added to the logging output. its passes the message and keyword argurments of the logging call, and it passes back modified versions of these ot use in the call to the underlying logger.\n",
    "\n",
    "Other method that can be used is **`exception()`**, Logs a message with level ERROR on this logger. The arguments are interpreted as for debug(). Exception info is added to the logging message."
   ]
  },
  {
   "cell_type": "markdown",
   "metadata": {},
   "source": []
  },
  {
   "cell_type": "markdown",
   "metadata": {},
   "source": [
    "Question4.\n",
    "\n",
    "Descrbe two methods for specifying the text of an exception object's error message?\n",
    "\n",
    "Ans:\n",
    "\n",
    "**`raise`** and **`assert`** are two methods for specifying the text of an exception object's error message. **`raise`** statement is used to trigger explicit exception, if certain condition is not as per requirement of programmer. It helps in triggering exception as per need of programmer and logic.\n",
    "\n",
    "There are few assertions that programmer always want ot be True to avoid code failure. Theis type of requirements is fullfilled by **`assert`** statement. This statment takes a Boolean Condition output of which if True, Further program executes. If output of assert statement is False it raises an **`Assertion Error`**"
   ]
  },
  {
   "cell_type": "markdown",
   "metadata": {},
   "source": []
  },
  {
   "cell_type": "markdown",
   "metadata": {},
   "source": [
    "Question5\n",
    "\n",
    "Why do you no longer use string-based exceptions?\n",
    "\n",
    "Ans:\n",
    "\n",
    "String-based Exception doesn't inherit from Exceptions. So plain exceptions catch all exceptions and not only system."
   ]
  }
 ],
 "metadata": {
  "kernelspec": {
   "display_name": "Python 3.8.8 ('base')",
   "language": "python",
   "name": "python3"
  },
  "language_info": {
   "codemirror_mode": {
    "name": "ipython",
    "version": 3
   },
   "file_extension": ".py",
   "mimetype": "text/x-python",
   "name": "python",
   "nbconvert_exporter": "python",
   "pygments_lexer": "ipython3",
   "version": "3.8.13"
  },
  "orig_nbformat": 4,
  "vscode": {
   "interpreter": {
    "hash": "24608bd683b051a8a00de506f187d3296bd49eaad6488801ac20452f8ab7f35a"
   }
  }
 },
 "nbformat": 4,
 "nbformat_minor": 2
}
