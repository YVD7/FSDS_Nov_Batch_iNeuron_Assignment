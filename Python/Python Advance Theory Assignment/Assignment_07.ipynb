{
 "cells": [
  {
   "cell_type": "markdown",
   "metadata": {},
   "source": [
    "# Assignment 07"
   ]
  },
  {
   "cell_type": "markdown",
   "metadata": {},
   "source": []
  },
  {
   "cell_type": "markdown",
   "metadata": {},
   "source": [
    "Question1\n",
    "\n",
    "What is the purpose of the try statement?\n",
    "\n",
    "Ans: \n",
    "\n",
    "**`try`** statement is used for exception handling in python. It consists of a block of risky statements which might cuase an exceptioin during runtime. If code within try block raises exception, then the exception will be reverted to the corresponding exception, then the exception will be reverted to the corresponding except block if multiple except blocks are present, else it will be reverted to the defauld except block. In short try except in union avoid programs from crashing during runtime due to exceptions."
   ]
  },
  {
   "cell_type": "code",
   "execution_count": 2,
   "metadata": {},
   "outputs": [
    {
     "name": "stdout",
     "output_type": "stream",
     "text": [
      "Divisioin by Zero is Not Possible\n"
     ]
    }
   ],
   "source": [
    "try:\n",
    "    print(10/0)\n",
    "except ZeroDivisionError:\n",
    "    print('Divisioin by Zero is Not Possible')"
   ]
  },
  {
   "cell_type": "markdown",
   "metadata": {},
   "source": []
  },
  {
   "cell_type": "markdown",
   "metadata": {},
   "source": [
    "Question2.\n",
    "\n",
    "What are the two most popular try statement variations?\n",
    "\n",
    "Ans:\n",
    "\n",
    "The Popular try statement variations are:\n",
    "\n",
    "1. **`try, except`**\n",
    "2. **`try, except, finally`**\n",
    "3. **`try, except, finally, else`**\n",
    "\n",
    "The **`try`** block is used to check code for exceptions during runtime. ie code inside **`try`** block will execute completely when there is no error in the program. Whereas the code inside **`except`** block will excute whenever the program enounters some error in the preceeding **`try`** block.\n",
    "\n",
    "\n",
    "Where as the code enters the **`else`** block if and only if the try clause does not raise and exception. The code in the  **`finally`** block will execute irrespetive of exception.\n"
   ]
  },
  {
   "cell_type": "markdown",
   "metadata": {},
   "source": []
  },
  {
   "cell_type": "markdown",
   "metadata": {},
   "source": [
    "Question4.\n",
    "\n",
    "What does the assert statement do, and what other statement is it like?\n",
    "\n",
    "Ans:\n",
    "\n",
    "there are few assertions that programmer always want to true to avoid code failure. This type of requirement is fulfilled by **`assert`** statement. This statement takes a boolean condition output of which is True, Further Program Exectures. If output of assert statement is False, it raises an Assertion Error."
   ]
  },
  {
   "cell_type": "code",
   "execution_count": 3,
   "metadata": {},
   "outputs": [
    {
     "ename": "AssertionError",
     "evalue": "This is not a valid statement",
     "output_type": "error",
     "traceback": [
      "\u001b[0;31m---------------------------------------------------------------------------\u001b[0m",
      "\u001b[0;31mAssertionError\u001b[0m                            Traceback (most recent call last)",
      "\u001b[1;32m/home/yash/FSDS_Nov_Batch_iNeuron_Assignment/Python/Python Advance Theory Assignment/Assignment_07.ipynb Cell 9\u001b[0m in \u001b[0;36m<cell line: 1>\u001b[0;34m()\u001b[0m\n\u001b[0;32m----> <a href='vscode-notebook-cell:/home/yash/FSDS_Nov_Batch_iNeuron_Assignment/Python/Python%20Advance%20Theory%20Assignment/Assignment_07.ipynb#W0sZmlsZQ%3D%3D?line=0'>1</a>\u001b[0m \u001b[39massert\u001b[39;00m(\u001b[39m2\u001b[39m \u001b[39m==\u001b[39m \u001b[39m4\u001b[39m), \u001b[39mf\u001b[39m\u001b[39m'\u001b[39m\u001b[39mThis is not a valid statement\u001b[39m\u001b[39m'\u001b[39m\n",
      "\u001b[0;31mAssertionError\u001b[0m: This is not a valid statement"
     ]
    }
   ],
   "source": [
    "assert(2 == 4), f'This is not a valid statement'"
   ]
  },
  {
   "cell_type": "markdown",
   "metadata": {},
   "source": [
    "Question5.\n",
    "\n",
    "What is the purpose of the with/ as argument, and what other statement is it like?\n",
    "\n",
    "Ans:\n",
    "\n",
    "**`with/as`** statement simplifies use of file handling in python. When we use a **`with`** statement for file reading, there is no need for programmer to explicitly takecare of activites like resource deallocation and file closing acquisition and release of resources. This avoids trggering of exceptions if file closing is unknowingly forgotten in the code execution.\n",
    "\n",
    "`with open('simpel_file.txt', 'W') as file:\n",
    "   file.write('Hello World')`"
   ]
  }
 ],
 "metadata": {
  "kernelspec": {
   "display_name": "Python 3.8.8 ('base')",
   "language": "python",
   "name": "python3"
  },
  "language_info": {
   "codemirror_mode": {
    "name": "ipython",
    "version": 3
   },
   "file_extension": ".py",
   "mimetype": "text/x-python",
   "name": "python",
   "nbconvert_exporter": "python",
   "pygments_lexer": "ipython3",
   "version": "3.8.8"
  },
  "orig_nbformat": 4,
  "vscode": {
   "interpreter": {
    "hash": "24608bd683b051a8a00de506f187d3296bd49eaad6488801ac20452f8ab7f35a"
   }
  }
 },
 "nbformat": 4,
 "nbformat_minor": 2
}
