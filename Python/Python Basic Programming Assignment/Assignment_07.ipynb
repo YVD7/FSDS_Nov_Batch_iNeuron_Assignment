{
 "cells": [
  {
   "cell_type": "markdown",
   "metadata": {},
   "source": [
    "Q1. Write a Python Program to find sum of array?"
   ]
  },
  {
   "cell_type": "code",
   "execution_count": 2,
   "metadata": {},
   "outputs": [
    {
     "name": "stdout",
     "output_type": "stream",
     "text": [
      "Sum of the array is  34\n"
     ]
    }
   ],
   "source": [
    "def _sum(arr):\n",
    "\n",
    "    # initialize a variable \n",
    "    # to store the sum\n",
    "    # while iterating though \n",
    "    # the array later\n",
    "    sum = 0\n",
    "\n",
    "    # iterate through the array  \n",
    "    # and each element to the sum variable \n",
    "    # one at a time\n",
    "    for i in arr:\n",
    "        sum = sum + i\n",
    "    \n",
    "    return(sum)\n",
    "\n",
    "# driver function\n",
    "arr= []\n",
    "\n",
    "# input values\n",
    "arr =  [12,3,4,15]\n",
    "n = len(arr)\n",
    "ans = _sum(arr)\n",
    "\n",
    "# display sum\n",
    "print(\"Sum of the array is \", ans)"
   ]
  },
  {
   "cell_type": "markdown",
   "metadata": {},
   "source": []
  },
  {
   "cell_type": "markdown",
   "metadata": {},
   "source": [
    "Q2. Write a Python Program to find largest element in an array?"
   ]
  },
  {
   "cell_type": "code",
   "execution_count": 6,
   "metadata": {},
   "outputs": [
    {
     "name": "stdout",
     "output_type": "stream",
     "text": [
      "Largest in given array 3234\n"
     ]
    }
   ],
   "source": [
    "# Approach 1: python function to find maximum\n",
    "# in arr[] of size n\n",
    "\n",
    "def largest(arr,n):\n",
    "\n",
    "    # initialized maximum element\n",
    "    max = arr[0]\n",
    "\n",
    "    # Traverse array elements from second \n",
    "    # and compare every element with\n",
    "    # current max\n",
    "\n",
    "    for i in range(1,n):\n",
    "        if arr[i] > max:\n",
    "            max= arr[i]\n",
    "\n",
    "    return max\n",
    "\n",
    "# Driver code\n",
    "arr = [10, 3234, 534, 54,64]\n",
    "n = len(arr)\n",
    "Ans = largest(arr, n)\n",
    "print(\"Largest in given array\", Ans)\n"
   ]
  },
  {
   "cell_type": "code",
   "execution_count": 4,
   "metadata": {},
   "outputs": [
    {
     "name": "stdout",
     "output_type": "stream",
     "text": [
      "Largest in given array 43445\n"
     ]
    }
   ],
   "source": [
    "# Approach 2 using buit-in function max():\n",
    "\n",
    "# in arr[] of size n\n",
    "def largest(arr,n):\n",
    "    ans = max(arr)\n",
    "    return ans;\n",
    "\n",
    "# Driver code\n",
    "if __name__ == '__main__':\n",
    "    arr = [10, 534, 345, 34, 43445]\n",
    "    n = len(arr)\n",
    "    print(\"Largest in given array\", largest(arr,n))"
   ]
  },
  {
   "cell_type": "code",
   "execution_count": 5,
   "metadata": {},
   "outputs": [
    {
     "name": "stdout",
     "output_type": "stream",
     "text": [
      "Largest element in the array 2345\n"
     ]
    }
   ],
   "source": [
    "# Approach 3: Using Sort() function:\n",
    "\n",
    "# in arr[] of size n:\n",
    "def largest(arr, n):\n",
    "\n",
    "    # sort the array:\n",
    "    arr.sort()\n",
    "\n",
    "    # The last element of the \n",
    "    # array in the largest element \n",
    "    return arr[n-1]\n",
    "    # or return arr[-1]\n",
    "\n",
    "# Driver Code\n",
    "arr = [20, 34,554, 2345, 234,43]\n",
    "n= len(arr)\n",
    "Ans= largest(arr,n)\n",
    "print(\"Largest element in the array\", Ans)"
   ]
  },
  {
   "cell_type": "markdown",
   "metadata": {},
   "source": []
  },
  {
   "cell_type": "markdown",
   "metadata": {},
   "source": [
    "Q3. Write a Python Program for array rotation?"
   ]
  },
  {
   "cell_type": "code",
   "execution_count": 8,
   "metadata": {},
   "outputs": [
    {
     "name": "stdout",
     "output_type": "stream",
     "text": [
      "Array after left rotation is: [3, 4, 5, 6, 7, 8, 9, 1, 2]\n"
     ]
    }
   ],
   "source": [
    "# Method 1: function to rotate array by elements using temp array\n",
    "def rotateArray(arr, n, d):\n",
    "    temp = []\n",
    "    i = 0\n",
    "    while (i < d):\n",
    "        temp.append(arr[i])\n",
    "        i= i + 1\n",
    "\n",
    "    i = 0\n",
    "    while (d < n):\n",
    "        arr[i] = arr[d]\n",
    "        i = i + 1\n",
    "        d = d + 1\n",
    "    arr[:] = arr[: i] + temp\n",
    "    return arr\n",
    "# Driver function to test above function \n",
    "arr= [1,2,3,4,5,6,7,8,9]\n",
    "print(\"Array after left rotation is: \", end ='')\n",
    "print(rotateArray(arr, len(arr), 2))"
   ]
  },
  {
   "cell_type": "code",
   "execution_count": 10,
   "metadata": {},
   "outputs": [
    {
     "name": "stdout",
     "output_type": "stream",
     "text": [
      "3 4 5 6 7 1 2 "
     ]
    }
   ],
   "source": [
    "# Method 2: By rotating one by one\n",
    "# Function to left rotate arr[] of size n by d*/\n",
    "def leftRotate(arr, d, n):\n",
    "    for i in range(d):\n",
    "        leftRotatebyOne(arr, n)\n",
    "\n",
    "# Function to left Rotate arr[] of size n by 1 /\n",
    "def leftRotatebyOne(arr,n):\n",
    "    temp = arr[0]\n",
    "    for i in range(n-1):\n",
    "        arr[i] = arr[i+1]\n",
    "    arr[n-1] = temp\n",
    "\n",
    "# utility function to print an array * /\n",
    "def printArray(arr, size):\n",
    "    for i in range(size):\n",
    "        print(\"%d\" % arr[i], end=\" \")\n",
    "    \n",
    "# Driver program to test above functions */\n",
    "arr = [1,2,3,4,5,6,7,8,9]\n",
    "leftRotate(arr, 2, 7)\n",
    "printArray(arr, 7)"
   ]
  },
  {
   "cell_type": "code",
   "execution_count": 15,
   "metadata": {},
   "outputs": [
    {
     "name": "stdout",
     "output_type": "stream",
     "text": [
      "3 4 5 6 7 1 2 "
     ]
    }
   ],
   "source": [
    "# method 3: (A juggling the alogrithm)\n",
    "\n",
    "# Instead of moving one by one, divide the array in different sets \n",
    "# where number of sets is equal to GCD of n and d and move the elements within sets. \n",
    "# If GCD is 1 as is for the above example array (n = 7 and d =2), then elements will be moved within one set only, we just start with temp = arr[0] and keep moving arr[I+d] to arr[I] and finally store temp at the right place.\n",
    "# Here is an example for n =12 and d = 3. GCD is 3 \n",
    "\n",
    "# function to left rotate arr[] of size n by d\n",
    "\n",
    "def leftRotate(arr, d, n) :\n",
    "    for i in range(gcd(d,n)):\n",
    "        # move i-th value blocks\n",
    "        temp = arr[i]\n",
    "        j = i\n",
    "        while 1:\n",
    "            k = j + d\n",
    "            if k >= n:\n",
    "                k = k - n\n",
    "            if k == i:\n",
    "                break\n",
    "            arr[j] = arr[k]\n",
    "            j = k\n",
    "        arr[j] = temp\n",
    "\n",
    "# utility functions\n",
    "# function to print an array \n",
    "def printArray(arr, size):\n",
    "    for i in range(size):\n",
    "        print(\"%d\" % arr[i], end=\" \")\n",
    "\n",
    "# Function to get gcd of a and b\n",
    "def gcd(a, b):\n",
    "    if b == 0:\n",
    "        return a;\n",
    "\n",
    "    else:\n",
    "        return gcd(b, a%b)\n",
    "\n",
    "# Driver program to test above functions\n",
    "arr = [1,2,3,4,5,6,7]\n",
    "leftRotate(arr, 2, 7)\n",
    "printArray(arr, 7)"
   ]
  },
  {
   "cell_type": "code",
   "execution_count": 11,
   "metadata": {},
   "outputs": [
    {
     "name": "stdout",
     "output_type": "stream",
     "text": [
      "[1, 2, 3, 4, 5, 6, 7]\n",
      "Rotated list is\n",
      "[3, 4, 5, 6, 7, 1, 2]\n"
     ]
    }
   ],
   "source": [
    "# method 4: using list slicing appraoch\n",
    "\n",
    "def rotateList(arr, d, n):\n",
    "    arr[:] = arr[d:n] + arr[0:d]\n",
    "    return arr\n",
    "# Driver function to test above function \n",
    "arr = [1,2,3,4,5,6,7]\n",
    "print(arr)\n",
    "print(\"Rotated list is\")\n",
    "print(rotateList(arr, 2, len(arr)))"
   ]
  },
  {
   "cell_type": "markdown",
   "metadata": {},
   "source": []
  },
  {
   "cell_type": "markdown",
   "metadata": {},
   "source": [
    "Q4. Write a Python Program to Split the array and add the first part to the end?"
   ]
  },
  {
   "cell_type": "code",
   "execution_count": 17,
   "metadata": {},
   "outputs": [
    {
     "name": "stdout",
     "output_type": "stream",
     "text": [
      "34 4 53 5 43 12 10 "
     ]
    }
   ],
   "source": [
    "# method 1: \n",
    "def splitArr(arr, n, k):\n",
    "    for i in range(0,k):\n",
    "        x = arr[0]\n",
    "        for j in range(0,n-1):\n",
    "            arr[j] = arr[j+1]\n",
    "\n",
    "        arr[n-1] = x\n",
    "# main\n",
    "arr = [12,10, 34, 4, 53, 5,43]\n",
    "n = len(arr)\n",
    "position = 2\n",
    "\n",
    "splitArr(arr, n, position)\n",
    "\n",
    "for  i in range(0, n):\n",
    "    print(arr[i], end = ' ')"
   ]
  },
  {
   "cell_type": "code",
   "execution_count": 18,
   "metadata": {},
   "outputs": [
    {
     "name": "stdout",
     "output_type": "stream",
     "text": [
      "43 54 53 66 10 234 "
     ]
    }
   ],
   "source": [
    "# method 2:\n",
    "def splitArr(a, n, k):\n",
    "    b = a[:k]\n",
    "    return (a[k::]+b[::])\n",
    "\n",
    "\n",
    "# amin \n",
    "arr=[10,234,43,54,53,66]\n",
    "n = len(arr)\n",
    "position = 2\n",
    "arr  = splitArr(arr, n, position)\n",
    "for i in range(0, n):\n",
    "    print(arr[i], end = ' ')"
   ]
  },
  {
   "cell_type": "markdown",
   "metadata": {},
   "source": []
  },
  {
   "cell_type": "markdown",
   "metadata": {},
   "source": [
    "Q5. Write a Python Program to check if given array is Monotonic?"
   ]
  },
  {
   "cell_type": "code",
   "execution_count": 19,
   "metadata": {},
   "outputs": [
    {
     "name": "stdout",
     "output_type": "stream",
     "text": [
      "False\n"
     ]
    }
   ],
   "source": [
    "# method 1:\n",
    "def isMonotonic(A):\n",
    "    return (all(A[i] <= A[i+1] for i in range(len(A) - 1)) or\n",
    "            all(A[i] >= A[i + 1] for i in range(len(A) - 1)))\n",
    "\n",
    "# Driver program \n",
    "A = [6,3,5,5]\n",
    "\n",
    "# Print required result\n",
    "print(isMonotonic(A))"
   ]
  },
  {
   "cell_type": "code",
   "execution_count": 22,
   "metadata": {},
   "outputs": [
    {
     "name": "stdout",
     "output_type": "stream",
     "text": [
      "True\n"
     ]
    }
   ],
   "source": [
    "# method 2. using extend() and sort()\n",
    "\n",
    "def isMonotonic(A):\n",
    "    x, y = [],[]\n",
    "    x.extend(A)\n",
    "    y.extend(A)\n",
    "    x.sort()\n",
    "    y.sort(reverse=True)\n",
    "    if(x == A or y == A):\n",
    "        return True\n",
    "    return False\n",
    "\n",
    "# Driver program\n",
    "A = [6,5,2,2]\n",
    "\n",
    "# print required output\n",
    "print(isMonotonic(A))"
   ]
  }
 ],
 "metadata": {
  "kernelspec": {
   "display_name": "Python 3.8.10 64-bit",
   "language": "python",
   "name": "python3"
  },
  "language_info": {
   "codemirror_mode": {
    "name": "ipython",
    "version": 3
   },
   "file_extension": ".py",
   "mimetype": "text/x-python",
   "name": "python",
   "nbconvert_exporter": "python",
   "pygments_lexer": "ipython3",
   "version": "3.8.10"
  },
  "orig_nbformat": 4,
  "vscode": {
   "interpreter": {
    "hash": "916dbcbb3f70747c44a77c7bcd40155683ae19c65e1c03b4aa3499c5328201f1"
   }
  }
 },
 "nbformat": 4,
 "nbformat_minor": 2
}
