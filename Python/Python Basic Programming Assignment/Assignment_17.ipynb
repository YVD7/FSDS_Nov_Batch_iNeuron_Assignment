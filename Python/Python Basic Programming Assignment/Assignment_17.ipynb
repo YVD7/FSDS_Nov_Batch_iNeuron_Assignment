{
 "cells": [
  {
   "cell_type": "markdown",
   "metadata": {},
   "source": [
    "# Assignment 17"
   ]
  },
  {
   "cell_type": "markdown",
   "metadata": {},
   "source": []
  },
  {
   "cell_type": "markdown",
   "metadata": {},
   "source": [
    "Question1.\n",
    "\n",
    "Create a function that takes three arguments a, b, c and returns the sum of the\n",
    "numbers that are evenly divided by c from the range a, b inclusive.\n",
    "\n",
    "Examples\n",
    "\n",
    "evenly_divisible(1, 10, 20) ➞ 0\n",
    "\n",
    "No number between 1 and 10 can be evenly divided by 20.\n",
    "\n",
    "evenly_divisible(1, 10, 2) ➞ 30\n",
    "\n",
    "2 + 4 + 6 + 8 + 10 = 30\n",
    "\n",
    "evenly_divisible(1, 10, 3) ➞ 18\n",
    "\n",
    "3 + 6 + 9 = 18"
   ]
  },
  {
   "cell_type": "code",
   "execution_count": 2,
   "metadata": {},
   "outputs": [
    {
     "name": "stdout",
     "output_type": "stream",
     "text": [
      "(1, 10, 20) -> 0\n",
      "(1, 10, 2) -> 30\n",
      "(1, 10, 3) -> 18\n"
     ]
    }
   ],
   "source": [
    "def evenDivisible(a,b,c):\n",
    "    divList=[]\n",
    "    for num in range(a,b+1):\n",
    "        if num%c == 0:\n",
    "            divList.append(num)\n",
    "\n",
    "    print(f'{a,b,c} -> {sum(divList)}')\n",
    "\n",
    "evenDivisible(1,10,20)\n",
    "evenDivisible(1,10,2)\n",
    "evenDivisible(1,10,3)"
   ]
  },
  {
   "cell_type": "markdown",
   "metadata": {},
   "source": []
  },
  {
   "cell_type": "markdown",
   "metadata": {},
   "source": [
    "Question2.\n",
    "\n",
    "Create a function that returns True if a given inequality expression is correct and\n",
    "False otherwise.\n",
    "\n",
    "Examples\n",
    "\n",
    "correct_signs(&quot;3 &lt; 7 &lt; 11&quot;) ➞ True\n",
    "\n",
    "correct_signs(&quot;13 &gt; 44 &gt; 33 &gt; 1&quot;) ➞ False\n",
    "\n",
    "correct_signs(&quot;1 &lt; 2 &lt; 6 &lt; 9 &gt; 3&quot;) ➞ True"
   ]
  },
  {
   "cell_type": "code",
   "execution_count": 6,
   "metadata": {},
   "outputs": [
    {
     "name": "stdout",
     "output_type": "stream",
     "text": [
      "True\n",
      "False\n"
     ]
    }
   ],
   "source": [
    "def check(s):\n",
    "    regex = eval(s)\n",
    "\n",
    "    if regex:\n",
    "        return True\n",
    "    else:\n",
    "        return False\n",
    "\n",
    "print(check(\"2<7<15\"))\n",
    "print(check(\"14>22<33>65>15\"))"
   ]
  },
  {
   "cell_type": "markdown",
   "metadata": {},
   "source": [
    "Question3.\n",
    "Create a function that replaces all the vowels in a string with a specified character.\n",
    "\n",
    "Examples\n",
    "\n",
    "replace_vowels(&quot;the aardvark&quot;, &quot;#&quot;) ➞ &quot;th# ##rdv#rk&quot;\n",
    "\n",
    "replace_vowels(&quot;minnie mouse&quot;, &quot;?&quot;) ➞ &quot;m?nn?? m??s?&quot;\n",
    "\n",
    "replace_vowels(&quot;shakespeare&quot;, &quot;*&quot;) ➞ &quot;sh*k*sp**r*&quot;"
   ]
  },
  {
   "cell_type": "code",
   "execution_count": 2,
   "metadata": {},
   "outputs": [
    {
     "name": "stdout",
     "output_type": "stream",
     "text": [
      "the arradvark # -> the arradvark\n",
      "the arradvark # -> the arradvark\n",
      "the arradvark # -> th# arradvark\n",
      "the arradvark # -> th# arradvark\n",
      "the arradvark # -> th# #rr#dv#rk\n",
      "the arradvark # -> th# #rr#dv#rk\n",
      "the arradvark # -> th# #rr#dv#rk\n",
      "the arradvark # -> th# #rr#dv#rk\n",
      "the arradvark # -> th# #rr#dv#rk\n",
      "the arradvark # -> th# #rr#dv#rk\n",
      "the arradvark # -> th# #rr#dv#rk\n",
      "the arradvark # -> th# #rr#dv#rk\n",
      "the arradvark # -> th# #rr#dv#rk\n",
      "minnie mouse ? -> minnie mouse\n",
      "minnie mouse ? -> m?nn?e mouse\n",
      "minnie mouse ? -> m?nn?e mouse\n",
      "minnie mouse ? -> m?nn?e mouse\n",
      "minnie mouse ? -> m?nn?e mouse\n",
      "minnie mouse ? -> m?nn?? mous?\n",
      "minnie mouse ? -> m?nn?? mous?\n",
      "minnie mouse ? -> m?nn?? mous?\n",
      "minnie mouse ? -> m?nn?? m?us?\n",
      "minnie mouse ? -> m?nn?? m??s?\n",
      "minnie mouse ? -> m?nn?? m??s?\n",
      "minnie mouse ? -> m?nn?? m??s?\n",
      "shakespeare  -> shakespeare\n",
      "shakespeare  -> shakespeare\n",
      "shakespeare  -> shkespere\n",
      "shakespeare  -> shkespere\n",
      "shakespeare  -> shkspr\n",
      "shakespeare  -> shkspr\n",
      "shakespeare  -> shkspr\n",
      "shakespeare  -> shkspr\n",
      "shakespeare  -> shkspr\n",
      "shakespeare  -> shkspr\n",
      "shakespeare  -> shkspr\n"
     ]
    }
   ],
   "source": [
    "def replaceVowels():\n",
    "    vowels = ['a','e','i','o','u','A','E','I','O','U']\n",
    "    in_string = input(\"String: \")\n",
    "    in_string_copy = in_string\n",
    "    in_char = input('Replacement character: ')\n",
    "    for ele in in_string:\n",
    "        if ele in vowels:\n",
    "            in_string = in_string.replace(ele,in_char)\n",
    "        print(f'{in_string_copy} {in_char} -> {in_string}')\n",
    "for x in range(3):\n",
    "    replaceVowels()"
   ]
  },
  {
   "cell_type": "markdown",
   "metadata": {},
   "source": []
  },
  {
   "cell_type": "markdown",
   "metadata": {},
   "source": [
    "Question4.\n",
    "\n",
    "Write a function that calculates the factorial of a number recursively ?\n",
    "\n",
    "Examples:\n",
    "\n",
    "factorial(5) ➞ 120\n",
    "\n",
    "factorial(3) ➞ 6\n",
    "\n",
    "factorial(1) ➞ 1\n",
    "\n",
    "factorial(0) ➞ 1"
   ]
  },
  {
   "cell_type": "code",
   "execution_count": 3,
   "metadata": {},
   "outputs": [
    {
     "name": "stdout",
     "output_type": "stream",
     "text": [
      "factorial(5) -> 120\n",
      "factorial(3) -> 6\n",
      "factorial(1) -> 1\n",
      "factorial(0) -> 1\n"
     ]
    }
   ],
   "source": [
    "def factorial(n):\n",
    "    if n==0:\n",
    "        return 1\n",
    "    return n * factorial(n-1)\n",
    "\n",
    "print(f'factorial(5) -> {factorial(5)}')\n",
    "print(f'factorial(3) -> {factorial(3)}')\n",
    "print(f'factorial(1) -> {factorial(1)}')\n",
    "print(f'factorial(0) -> {factorial(0)}')\n",
    "    "
   ]
  },
  {
   "cell_type": "markdown",
   "metadata": {},
   "source": []
  },
  {
   "cell_type": "markdown",
   "metadata": {},
   "source": [
    "Question5.\n",
    "\n",
    "Hamming distance is the number of characters that differ between two strings ?\n",
    "\n",
    "To illustrate:\n",
    "\n",
    "String1: \"abcbba\"\n",
    "\n",
    "String2: \"abcbda\"\n",
    "\n",
    "Hamming Distance: 1 - \"b\" vs. \"d\" is the only difference.\n",
    "\n",
    "Create a function that computes the hamming distance between two strings.\n",
    "\n",
    "Examples:\n",
    "\n",
    "hamming_distance(\"abcde\", \"bcdef\") ➞ 5\n",
    "\n",
    "hamming_distance(\"abcde\", \"abcde\") ➞ 0\n",
    "\n",
    "hamming_distance(\"strong\", \"strung\") ➞ 1"
   ]
  },
  {
   "cell_type": "code",
   "execution_count": 6,
   "metadata": {},
   "outputs": [
    {
     "name": "stdout",
     "output_type": "stream",
     "text": [
      "Hamming Distance b/w sdfdsj, dsfds and dfdsf, asdfds -> 10\n"
     ]
    }
   ],
   "source": [
    "def genHamDistance():\n",
    "    in_string_1 = input('Enter the String_1: ')\n",
    "    in_string_2 = input('Enter the String_2: ')\n",
    "    in_string_3 = input('Enter the String_3: ')\n",
    "    if len(in_string_1) == len(in_string_2):\n",
    "        count = 0\n",
    "        for i in range(len(in_string_1)):\n",
    "            if in_string_1[i] != in_string_2[i]:\n",
    "                count = count + 1\n",
    "        print(f'Hamming Distance b/w {in_string_1} and {in_string_2} -> {count}')\n",
    "    else:\n",
    "        print('Both Strings Must be of Same Length')\n",
    "\n",
    "for x in range(1):\n",
    "    genHamDistance()"
   ]
  }
 ],
 "metadata": {
  "kernelspec": {
   "display_name": "Python 3.8.10 64-bit",
   "language": "python",
   "name": "python3"
  },
  "language_info": {
   "codemirror_mode": {
    "name": "ipython",
    "version": 3
   },
   "file_extension": ".py",
   "mimetype": "text/x-python",
   "name": "python",
   "nbconvert_exporter": "python",
   "pygments_lexer": "ipython3",
   "version": "3.8.10"
  },
  "orig_nbformat": 4,
  "vscode": {
   "interpreter": {
    "hash": "916dbcbb3f70747c44a77c7bcd40155683ae19c65e1c03b4aa3499c5328201f1"
   }
  }
 },
 "nbformat": 4,
 "nbformat_minor": 2
}
