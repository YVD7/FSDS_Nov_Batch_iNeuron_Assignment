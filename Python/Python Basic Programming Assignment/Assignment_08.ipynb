{
 "cells": [
  {
   "cell_type": "markdown",
   "metadata": {},
   "source": [
    "# Assignment 08"
   ]
  },
  {
   "cell_type": "markdown",
   "metadata": {},
   "source": []
  },
  {
   "cell_type": "markdown",
   "metadata": {},
   "source": [
    "Q1. Write a Python Program to Add Two Matrices?"
   ]
  },
  {
   "cell_type": "code",
   "execution_count": 3,
   "metadata": {},
   "outputs": [
    {
     "name": "stdout",
     "output_type": "stream",
     "text": [
      "[35, 377, 57]\n",
      "[25, 378, 88]\n",
      "[57, 79, 130]\n"
     ]
    }
   ],
   "source": [
    "x = [[12,34,34],\n",
    "     [23,343,23],\n",
    "     [23,3,43]]\n",
    "\n",
    "y = [[23,343,23],\n",
    "     [2,35,65],\n",
    "     [34,76,87]]\n",
    "\n",
    "result = [[0,0,0],\n",
    "          [0,0,0],\n",
    "          [0,0,0]]\n",
    "\n",
    "# iterate through rows:\n",
    "for i in range(len(x)):\n",
    "    # iterate through columns:\n",
    "    for j in range(len(x[0])):\n",
    "        result[i][j] = x[i][j] + y[i][j]\n",
    "    \n",
    "for r in result:\n",
    "    print(r)"
   ]
  },
  {
   "cell_type": "code",
   "execution_count": 4,
   "metadata": {},
   "outputs": [
    {
     "name": "stdout",
     "output_type": "stream",
     "text": [
      "[35, 377, 57]\n",
      "[25, 378, 88]\n",
      "[57, 79, 130]\n"
     ]
    }
   ],
   "source": [
    "# using list comprihension method\n",
    "x = [[12,34,34],\n",
    "     [23,343,23],\n",
    "     [23,3,43]]\n",
    "\n",
    "y = [[23,343,23],\n",
    "     [2,35,65],\n",
    "     [34,76,87]]\n",
    "\n",
    "result = [[x[i][j] + y[i][j] for j in range(len(x[0]))] for i in range(len(x))]\n",
    "\n",
    "for r in result:\n",
    "    print(r)\n"
   ]
  },
  {
   "cell_type": "markdown",
   "metadata": {},
   "source": []
  },
  {
   "cell_type": "markdown",
   "metadata": {},
   "source": [
    "Q2. Write a Python Program to Multiply Two Matrices?"
   ]
  },
  {
   "cell_type": "code",
   "execution_count": 11,
   "metadata": {},
   "outputs": [
    {
     "name": "stdout",
     "output_type": "stream",
     "text": [
      "[3130, 3806, 1364, 735]\n",
      "[541, 708, 1714, 572]\n",
      "[364, 502, 1401, 558]\n"
     ]
    }
   ],
   "source": [
    "# using nested loop:\n",
    "# 3x3 matrix\n",
    "X = [[23,34,65],\n",
    "     [45,34,6],\n",
    "     [34,43,2]]\n",
    "\n",
    "# 3x4 matrix\n",
    "Y = [[3,4,32,6],\n",
    "     [4,6,7,8],\n",
    "     [45,54,6,5]]\n",
    "\n",
    "# result is 3x4\n",
    "result = [[0,0,0,0],\n",
    "          [0,0,0,0],\n",
    "          [0,0,0,0]]\n",
    "\n",
    "# iterate through rows of X\n",
    "for i in range(len(X)):\n",
    "   # iterate through columns of Y\n",
    "   for j in range(len(Y[0])):\n",
    "       # iterate through rows of Y\n",
    "       for k in range(len(Y)):\n",
    "           result[i][j] += X[i][k] * Y[k][j]\n",
    "\n",
    "for r in result:\n",
    "   print(r)"
   ]
  },
  {
   "cell_type": "code",
   "execution_count": 12,
   "metadata": {},
   "outputs": [
    {
     "name": "stdout",
     "output_type": "stream",
     "text": [
      "[3130, 3806, 1364, 735]\n",
      "[541, 708, 1714, 572]\n",
      "[364, 502, 1401, 558]\n"
     ]
    }
   ],
   "source": [
    "# using list comprehension method\n",
    "\n",
    "# 3x3 matrix\n",
    "X = [[23,34,65],\n",
    "     [45,34,6],\n",
    "     [34,43,2]]\n",
    "\n",
    "# 3x4 matrix\n",
    "Y = [[3,4,32,6],\n",
    "     [4,6,7,8],\n",
    "     [45,54,6,5]]\n",
    "\n",
    "# results 3x4\n",
    "result = [[sum(a*b for a,b in zip(X_row,Y_col)) for Y_col in zip(*Y)] for X_row in X]\n",
    "\n",
    "for r in result:\n",
    "    print(r)"
   ]
  },
  {
   "cell_type": "markdown",
   "metadata": {},
   "source": []
  },
  {
   "cell_type": "markdown",
   "metadata": {},
   "source": [
    "Q3. Write a Python Program to Transpose a Matrix?"
   ]
  },
  {
   "cell_type": "code",
   "execution_count": 13,
   "metadata": {},
   "outputs": [
    {
     "name": "stdout",
     "output_type": "stream",
     "text": [
      "[12, 23, 34]\n",
      "[343, 34, 56]\n",
      "[43, 56, 45]\n"
     ]
    }
   ],
   "source": [
    "# using nested loop\n",
    "\n",
    "X = [[12,343,43],\n",
    "     [23,34,56],\n",
    "     [34,56,45]]\n",
    "\n",
    "result = [[0,0,0],\n",
    "          [0,0,0],\n",
    "          [0,0,0]]\n",
    "\n",
    "# iteration through rows\n",
    "for i in range(len(X)):\n",
    "    # iteration through columns:\n",
    "    for j in range(len(X[0])):\n",
    "        result[j][i] = X[i][j]\n",
    "\n",
    "for r in result:\n",
    "    print(r)"
   ]
  },
  {
   "cell_type": "code",
   "execution_count": 14,
   "metadata": {},
   "outputs": [
    {
     "name": "stdout",
     "output_type": "stream",
     "text": [
      "[23, 34]\n",
      "[343, 54]\n",
      "[54, 675]\n"
     ]
    }
   ],
   "source": [
    "X = [[23,343,54],\n",
    "     [34,54,675]]\n",
    "\n",
    "result = [[X[j][i] for j in range(len(X))] for i in range(len(X[0]))]\n",
    "\n",
    "for r in result:\n",
    "    print(r)"
   ]
  },
  {
   "cell_type": "markdown",
   "metadata": {},
   "source": []
  },
  {
   "cell_type": "markdown",
   "metadata": {},
   "source": [
    "Q4. Write a Python Program to Sort Words in Alphabetic Order?"
   ]
  },
  {
   "cell_type": "code",
   "execution_count": 20,
   "metadata": {},
   "outputs": [
    {
     "name": "stdout",
     "output_type": "stream",
     "text": [
      "the sorted words are: \n",
      "hi\n",
      "is\n",
      "this\n",
      "yash\n"
     ]
    }
   ],
   "source": [
    "# To take input from user\n",
    "my_str = input(\"Enter a stirng: \")\n",
    "\n",
    "# breakdown the string into list of words:\n",
    "words = [words.lower() for words in my_str.split()]\n",
    "\n",
    "#sort the list\n",
    "words.sort()\n",
    "\n",
    "# display the words sorted\n",
    "print(\"the sorted words are: \")\n",
    "for word in words:\n",
    "    print(word)"
   ]
  },
  {
   "cell_type": "markdown",
   "metadata": {},
   "source": []
  },
  {
   "cell_type": "markdown",
   "metadata": {},
   "source": [
    "Q5. Write a Python Program to Remove Punctuation From a String?"
   ]
  },
  {
   "cell_type": "code",
   "execution_count": 22,
   "metadata": {},
   "outputs": [
    {
     "name": "stdout",
     "output_type": "stream",
     "text": [
      "Hi This is Yash Dawande He said and Went\n"
     ]
    }
   ],
   "source": [
    "# define punctuation\n",
    "punctuations = '''!()-[]{};:'\"\\,<>./?@#$%^&*_~'''\n",
    "\n",
    "my_str = \"Hi!!! This is Yash Dawande, He said ---and Went.\"\n",
    "\n",
    "# remove pinctuations from string\n",
    "no_punct = \"\"\n",
    "for char in my_str:\n",
    "    if char not in punctuations:\n",
    "        no_punct = no_punct + char\n",
    "\n",
    "# display the unpunctuated string\n",
    "print(no_punct)"
   ]
  }
 ],
 "metadata": {
  "kernelspec": {
   "display_name": "Python 3.7.13 ('base')",
   "language": "python",
   "name": "python3"
  },
  "language_info": {
   "codemirror_mode": {
    "name": "ipython",
    "version": 3
   },
   "file_extension": ".py",
   "mimetype": "text/x-python",
   "name": "python",
   "nbconvert_exporter": "python",
   "pygments_lexer": "ipython3",
   "version": "3.7.13"
  },
  "orig_nbformat": 4,
  "vscode": {
   "interpreter": {
    "hash": "24608bd683b051a8a00de506f187d3296bd49eaad6488801ac20452f8ab7f35a"
   }
  }
 },
 "nbformat": 4,
 "nbformat_minor": 2
}
