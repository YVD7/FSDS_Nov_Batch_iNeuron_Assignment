{
 "cells": [
  {
   "cell_type": "markdown",
   "metadata": {},
   "source": [
    "# Assignment 10"
   ]
  },
  {
   "cell_type": "markdown",
   "metadata": {},
   "source": []
  },
  {
   "cell_type": "markdown",
   "metadata": {},
   "source": [
    "Q1. Write a Python program to find sum of elements in list?"
   ]
  },
  {
   "cell_type": "code",
   "execution_count": 6,
   "metadata": {},
   "outputs": [
    {
     "name": "stdout",
     "output_type": "stream",
     "text": [
      "Sum of whole lists : 346\n"
     ]
    }
   ],
   "source": [
    "total = 0\n",
    "\n",
    "# creting list\n",
    "list = [23,43,54,65,23,62,76]\n",
    "\n",
    "# iterate each element in the list \n",
    "# and add the in the variable totol\n",
    "for i in range(0, len(list)):\n",
    "    total += list[i]\n",
    "\n",
    "# print the total value\n",
    "print(\"Sum of whole lists :\",total)"
   ]
  },
  {
   "cell_type": "markdown",
   "metadata": {},
   "source": []
  },
  {
   "cell_type": "markdown",
   "metadata": {},
   "source": [
    "Q2. Write a Python program to Multiply all numbers in the list?"
   ]
  },
  {
   "cell_type": "code",
   "execution_count": 10,
   "metadata": {},
   "outputs": [
    {
     "name": "stdout",
     "output_type": "stream",
     "text": [
      "720\n"
     ]
    }
   ],
   "source": [
    "def multiplyList(mList):\n",
    "\n",
    "    # multiply elements one by one\n",
    "    result = 1\n",
    "    for x in mList:\n",
    "        result *= x\n",
    "    return result\n",
    "\n",
    "# Create list and print output\n",
    "list = [1,2,3,4,5,6]\n",
    "print(multiplyList(list))"
   ]
  },
  {
   "cell_type": "markdown",
   "metadata": {},
   "source": []
  },
  {
   "cell_type": "markdown",
   "metadata": {},
   "source": [
    "Q3. Write a Python program to find smallest number in a list?"
   ]
  },
  {
   "cell_type": "code",
   "execution_count": 39,
   "metadata": {},
   "outputs": [
    {
     "name": "stdout",
     "output_type": "stream",
     "text": [
      "Smallest element in the list: 0\n"
     ]
    }
   ],
   "source": [
    "# create list \n",
    "list = [1,2,3,4,5,6,7,8,0]\n",
    "\n",
    "list.sort()\n",
    "\n",
    "print(\"Smallest element in the list:\",list[0])"
   ]
  },
  {
   "cell_type": "markdown",
   "metadata": {},
   "source": []
  },
  {
   "cell_type": "markdown",
   "metadata": {},
   "source": [
    "Q4. Write a Python program to find largest number in a list?"
   ]
  },
  {
   "cell_type": "code",
   "execution_count": 57,
   "metadata": {},
   "outputs": [
    {
     "name": "stdout",
     "output_type": "stream",
     "text": [
      "Highest number in the list: 8\n"
     ]
    }
   ],
   "source": [
    "# create list \n",
    "list = [1,2,3,4,5,6,7,8,0]\n",
    "\n",
    "list.sort(reverse=True)\n",
    "\n",
    "print(\"Highest number in the list:\",list[0])"
   ]
  },
  {
   "cell_type": "markdown",
   "metadata": {},
   "source": []
  },
  {
   "cell_type": "markdown",
   "metadata": {},
   "source": [
    "Q5. Write a Python program to find second largest number in a list?"
   ]
  },
  {
   "cell_type": "code",
   "execution_count": 59,
   "metadata": {},
   "outputs": [
    {
     "name": "stdout",
     "output_type": "stream",
     "text": [
      "Second Largest number in the list: 7\n"
     ]
    }
   ],
   "source": [
    "list = [1,2,3,4,5,6,7,8,0]\n",
    "\n",
    "list.sort(reverse=True)\n",
    "\n",
    "print(\"Second Largest number in the list:\",list[1])"
   ]
  },
  {
   "cell_type": "markdown",
   "metadata": {},
   "source": []
  },
  {
   "cell_type": "markdown",
   "metadata": {},
   "source": [
    "Q6. Write a Python program to find N largest elements from a list?    "
   ]
  },
  {
   "cell_type": "code",
   "execution_count": 64,
   "metadata": {},
   "outputs": [
    {
     "name": "stdout",
     "output_type": "stream",
     "text": [
      "[343, 745, 2343, 6546]\n"
     ]
    }
   ],
   "source": [
    "l = [343,2343,6546,745,-345]\n",
    "n = 4\n",
    "l.sort()\n",
    "print(l[-n:])"
   ]
  },
  {
   "cell_type": "markdown",
   "metadata": {},
   "source": []
  },
  {
   "cell_type": "markdown",
   "metadata": {},
   "source": [
    "Q7. Write a Python program to print even numbers in a list?"
   ]
  },
  {
   "cell_type": "code",
   "execution_count": 63,
   "metadata": {},
   "outputs": [
    {
     "name": "stdout",
     "output_type": "stream",
     "text": [
      "6546 "
     ]
    }
   ],
   "source": [
    "l = [343,2343,6546,745,-345]\n",
    "\n",
    "for num in l: # iterate each number in the list\n",
    "    if num % 2 == 0: # checking condition\n",
    "        print(num, end = \" \")"
   ]
  },
  {
   "cell_type": "markdown",
   "metadata": {},
   "source": []
  },
  {
   "cell_type": "markdown",
   "metadata": {},
   "source": [
    "Q8. Write a Python program to print odd numbers in a List?"
   ]
  },
  {
   "cell_type": "code",
   "execution_count": 66,
   "metadata": {},
   "outputs": [
    {
     "name": "stdout",
     "output_type": "stream",
     "text": [
      "343 2343 745 -345 "
     ]
    }
   ],
   "source": [
    "l = [343,2343,6546,745,-345]\n",
    "\n",
    "for num in l: # iterate each number in the list\n",
    "    if num % 2  != 0: # checking condition\n",
    "        print(num, end = \" \")"
   ]
  },
  {
   "cell_type": "markdown",
   "metadata": {},
   "source": []
  },
  {
   "cell_type": "markdown",
   "metadata": {},
   "source": [
    "Q9. Write a Python program to Remove empty List from List?"
   ]
  },
  {
   "cell_type": "code",
   "execution_count": 69,
   "metadata": {},
   "outputs": [
    {
     "name": "stdout",
     "output_type": "stream",
     "text": [
      "Original list:[5, 6, [], 3, [], [], 9]\n",
      "List after empty list removal:[5, 6, 3, 9]\n"
     ]
    }
   ],
   "source": [
    "test_list = [5, 6, [], 3, [], [], 9]\n",
    "\n",
    "# print original list\n",
    "print(\"Original list:\" + str(test_list))\n",
    "\n",
    "# Remove empty list from list\n",
    "# using list comprehension\n",
    "\n",
    "res = [ele for ele in test_list if ele != []]\n",
    "print(\"List after empty list removal:\" + str(res))"
   ]
  },
  {
   "cell_type": "markdown",
   "metadata": {},
   "source": []
  },
  {
   "cell_type": "markdown",
   "metadata": {},
   "source": [
    "Q10. Write a Python program to Cloning or Copying a list?"
   ]
  },
  {
   "cell_type": "code",
   "execution_count": 70,
   "metadata": {},
   "outputs": [
    {
     "name": "stdout",
     "output_type": "stream",
     "text": [
      "Original list: [1, 2, 3, 4, 5, 6, 4, 3, 2, 1]\n",
      "After Cloning: [1, 2, 3, 4, 5, 6, 4, 3, 2, 1]\n"
     ]
    }
   ],
   "source": [
    "def Cloning(list):\n",
    "    list_copy = list[:]\n",
    "    return list_copy\n",
    "\n",
    "# Driver Code\n",
    "\n",
    "list = [1,2,3,4,5,6,4,3,2,1]\n",
    "list_0 = Cloning(list)\n",
    "print(\"Original list:\",list)\n",
    "print(\"After Cloning:\", list_0)"
   ]
  },
  {
   "cell_type": "markdown",
   "metadata": {},
   "source": []
  },
  {
   "cell_type": "markdown",
   "metadata": {},
   "source": [
    "Q11. Write a Python program to Count occurrences of an element in a list?"
   ]
  },
  {
   "cell_type": "code",
   "execution_count": 73,
   "metadata": {},
   "outputs": [
    {
     "name": "stdout",
     "output_type": "stream",
     "text": [
      "10 has occured 3 times\n"
     ]
    }
   ],
   "source": [
    "def countX(lst, x):\n",
    "    return lst.count(x)\n",
    "\n",
    "\n",
    "lst = [15, 6, 7, 10, 12, 20, 10, 28, 10]\n",
    "\n",
    "x = 10\n",
    "\n",
    "print('{} has occured {} times'.format(x, countX(lst, x)))"
   ]
  }
 ],
 "metadata": {
  "kernelspec": {
   "display_name": "Python 3.7.13 ('base')",
   "language": "python",
   "name": "python3"
  },
  "language_info": {
   "codemirror_mode": {
    "name": "ipython",
    "version": 3
   },
   "file_extension": ".py",
   "mimetype": "text/x-python",
   "name": "python",
   "nbconvert_exporter": "python",
   "pygments_lexer": "ipython3",
   "version": "3.7.13"
  },
  "orig_nbformat": 4,
  "vscode": {
   "interpreter": {
    "hash": "24608bd683b051a8a00de506f187d3296bd49eaad6488801ac20452f8ab7f35a"
   }
  }
 },
 "nbformat": 4,
 "nbformat_minor": 2
}
