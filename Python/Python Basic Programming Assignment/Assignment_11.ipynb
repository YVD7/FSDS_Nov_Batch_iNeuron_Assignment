{
 "cells": [
  {
   "cell_type": "markdown",
   "metadata": {},
   "source": [
    "Q1. Write a Python program to find words which are greater than given length k?"
   ]
  },
  {
   "cell_type": "code",
   "execution_count": 2,
   "metadata": {},
   "outputs": [
    {
     "name": "stdout",
     "output_type": "stream",
     "text": [
      "['geek', 'geeks']\n"
     ]
    }
   ],
   "source": [
    "# Python program to find the all string \n",
    "# Which are greater than given length k\n",
    "def string_k(k,str):\n",
    "    \n",
    "    # Create the empty string\n",
    "    string = []\n",
    "\n",
    "    # split the string where space is comes\n",
    "    text = str.split(\" \")\n",
    "\n",
    "    # iterate the loop till every substring \n",
    "    for x in text:\n",
    "\n",
    "        # if the length of current sub string\n",
    "        # is greater than k then \n",
    "        if len(x) > k:\n",
    "\n",
    "            # append this sub string in \n",
    "            # string list \n",
    "            string.append(x)\n",
    "\n",
    "        # return string list\n",
    "    return string\n",
    "\n",
    "# Driver Program\n",
    "k = 3\n",
    "str = \"geek for geeks\"\n",
    "print(string_k(k, str))"
   ]
  },
  {
   "cell_type": "markdown",
   "metadata": {},
   "source": []
  },
  {
   "cell_type": "markdown",
   "metadata": {},
   "source": [
    "Q2. Write a Python program for removing i-th character from a string?"
   ]
  },
  {
   "cell_type": "code",
   "execution_count": 5,
   "metadata": {},
   "outputs": [
    {
     "name": "stdout",
     "output_type": "stream",
     "text": [
      "geeksORgeeks\n"
     ]
    }
   ],
   "source": [
    "# Remove character at index i\n",
    "def remove(string,i):\n",
    "\n",
    "    # Characters before the i-th indexed\n",
    "    # is stored in a variable\n",
    "    a = string[:i]\n",
    "\n",
    "    # Characters after the nth indexed \n",
    "    # is stored in a variable b\n",
    "    b = string[i+1:]\n",
    "\n",
    "    # Returning string after removing \n",
    "    # nth indexed character.\n",
    "    return a + b\n",
    "\n",
    "# Driver Code\n",
    "if __name__ == '__main__':\n",
    "    \n",
    "    string = \"geeksFORgeeks\"\n",
    "\n",
    "    # Remove nth index element\n",
    "    i = 5\n",
    "\n",
    "    # Print the new string\n",
    "    print(remove(string, i))"
   ]
  },
  {
   "cell_type": "markdown",
   "metadata": {},
   "source": []
  },
  {
   "cell_type": "markdown",
   "metadata": {},
   "source": [
    "Q3. Write a Python program to split and join a string?"
   ]
  },
  {
   "cell_type": "code",
   "execution_count": 6,
   "metadata": {},
   "outputs": [
    {
     "name": "stdout",
     "output_type": "stream",
     "text": [
      "['Geeks', 'for', 'Geeks']\n",
      "Geeks-for-Geeks\n"
     ]
    }
   ],
   "source": [
    "def split_string(string):\n",
    "\n",
    "    #split the stirng based on space delimiter\n",
    "    list_string = string.split(' ')\n",
    "\n",
    "    return list_string\n",
    "\n",
    "def join_string(list_string):\n",
    "\n",
    "    # Join the string based on '-' delimiter\n",
    "    string = '-'.join(list_string)\n",
    "\n",
    "    return string\n",
    "\n",
    "# Driver Function\n",
    "\n",
    "if __name__ == '__main__':\n",
    "    string = 'Geeks for Geeks'\n",
    "\n",
    "    # Splitting a string\n",
    "    list_string = split_string(string)\n",
    "    print(list_string)\n",
    "\n",
    "    # Join list of strings into one\n",
    "    new_string = join_string(list_string)\n",
    "    print(new_string)"
   ]
  },
  {
   "cell_type": "code",
   "execution_count": 8,
   "metadata": {},
   "outputs": [
    {
     "name": "stdout",
     "output_type": "stream",
     "text": [
      "['Geeks', 'for', 'Geeks']\n",
      "Geeks-for-Geeks\n"
     ]
    }
   ],
   "source": [
    "# input string\n",
    "s = 'Geeks for Geeks'\n",
    "\n",
    "# print the stirng after split method\n",
    "print(s.split(\" \"))\n",
    "\n",
    "# print the stirng after join\n",
    "print(\"-\".join(s.split()))"
   ]
  },
  {
   "cell_type": "markdown",
   "metadata": {},
   "source": []
  },
  {
   "cell_type": "markdown",
   "metadata": {},
   "source": [
    "Q4. Write a Python to check if a given string is binary string or not?"
   ]
  },
  {
   "cell_type": "code",
   "execution_count": 1,
   "metadata": {},
   "outputs": [
    {
     "name": "stdout",
     "output_type": "stream",
     "text": [
      "Yes\n"
     ]
    }
   ],
   "source": [
    "def check(string):\n",
    "\n",
    "    # set function convert string\n",
    "    # into set of characters.\n",
    "    p = set(string)\n",
    "\n",
    "    # declare set of '0' , '1'.\n",
    "    s = {'0','1'}\n",
    "\n",
    "    # Check set p is same as set s\n",
    "    # or set p conatians only '0'\n",
    "    # or set p conatians only '1'\n",
    "    # or not, if any condition \n",
    "    # is true then string is accepted\n",
    "    # otherwise not.\n",
    "    if s == p or p == {'0'} or p == {'1'}:\n",
    "        print(\"Yes\")\n",
    "    else:\n",
    "        print(\"No\")\n",
    "\n",
    "3# driver code\n",
    "if __name__ == \"__main__\":\n",
    "\n",
    "\n",
    "    string = \"1010101010100101\"\n",
    "\n",
    "    # function calling \n",
    "    check(string)"
   ]
  },
  {
   "cell_type": "markdown",
   "metadata": {},
   "source": []
  },
  {
   "cell_type": "markdown",
   "metadata": {},
   "source": [
    "Q5. Write a Python program to find uncommon words from two Strings?"
   ]
  },
  {
   "cell_type": "code",
   "execution_count": 3,
   "metadata": {},
   "outputs": [
    {
     "name": "stdout",
     "output_type": "stream",
     "text": [
      "['This', 'is', \"It's\", 'my', 'not']\n"
     ]
    }
   ],
   "source": [
    "# function to return all uncommon words \n",
    "def UncommonWrords(A, B):\n",
    "\n",
    "    # count will conatain all the word counts\n",
    "    count = { }\n",
    "\n",
    "    # insert words of string A to hash\n",
    "    for word in A.split():\n",
    "        count[word] = count.get(word, 0) + 1\n",
    "\n",
    "    # insert words of string B to hash\n",
    "    for word in B.split():\n",
    "        count[word] = count.get(word, 0) + 1\n",
    "\n",
    "    # return required list of words\n",
    "    return [word for word in count if count[word] == 1]\n",
    "\n",
    "# Driver code\n",
    "A = \"This is someones car\"\n",
    "B = \"It's my car not someones car\"\n",
    "\n",
    "# Print required answer\n",
    "print(UncommonWrords(A, B))"
   ]
  },
  {
   "cell_type": "markdown",
   "metadata": {},
   "source": []
  },
  {
   "cell_type": "markdown",
   "metadata": {},
   "source": [
    "Q6. Write a Python to find all duplicate characters in string?"
   ]
  },
  {
   "cell_type": "code",
   "execution_count": 5,
   "metadata": {},
   "outputs": [
    {
     "name": "stdout",
     "output_type": "stream",
     "text": [
      "g r e n   c h i l s\n"
     ]
    }
   ],
   "source": [
    "def find_dup_char(input):\n",
    "    x =[]\n",
    "    for i in input:\n",
    "        if i not in x and input.count(i)>1:\n",
    "            x.append(i)\n",
    "    print(\" \".join(x))\n",
    "\n",
    "# Driver program\n",
    "if __name__ == \"__main__\":\n",
    "    input = 'green chile stew green chile burgers'\n",
    "    find_dup_char(input)"
   ]
  },
  {
   "cell_type": "markdown",
   "metadata": {},
   "source": []
  },
  {
   "cell_type": "markdown",
   "metadata": {},
   "source": [
    "Q7. Write a Python Program to check if a string contains any special character?"
   ]
  },
  {
   "cell_type": "code",
   "execution_count": 8,
   "metadata": {},
   "outputs": [
    {
     "name": "stdout",
     "output_type": "stream",
     "text": [
      "string is not accepted\n"
     ]
    }
   ],
   "source": [
    "# to check if any special character is present\n",
    "# in a given string or not\n",
    "\n",
    "# input string\n",
    "n = \"one$for^everyone\"\n",
    "n.split()\n",
    "c = 0\n",
    "s='[@_!#$%^&*()<>?/\\|}{~:]' # special character set\n",
    "for i in range(len(n)):\n",
    "    # checking if any special character is present in given string or not\n",
    "    if n[i] in s:\n",
    "        c += 1 # if special character found then add 1 to the c\n",
    "\n",
    "# if c value is greatere than 0 then print no\n",
    "# means special character is found in stirng \n",
    "if c:\n",
    "    print(\"string is not accepted\")\n",
    "else:\n",
    "    print(\"string accepted\")\n"
   ]
  }
 ],
 "metadata": {
  "kernelspec": {
   "display_name": "Python 3.7.13 ('base')",
   "language": "python",
   "name": "python3"
  },
  "language_info": {
   "codemirror_mode": {
    "name": "ipython",
    "version": 3
   },
   "file_extension": ".py",
   "mimetype": "text/x-python",
   "name": "python",
   "nbconvert_exporter": "python",
   "pygments_lexer": "ipython3",
   "version": "3.7.13"
  },
  "orig_nbformat": 4,
  "vscode": {
   "interpreter": {
    "hash": "24608bd683b051a8a00de506f187d3296bd49eaad6488801ac20452f8ab7f35a"
   }
  }
 },
 "nbformat": 4,
 "nbformat_minor": 2
}
