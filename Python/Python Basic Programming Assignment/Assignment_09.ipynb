{
 "cells": [
  {
   "cell_type": "markdown",
   "metadata": {},
   "source": [
    "# Assignment 09"
   ]
  },
  {
   "cell_type": "markdown",
   "metadata": {},
   "source": []
  },
  {
   "cell_type": "markdown",
   "metadata": {},
   "source": [
    "Q1. Write a Python program to check if the given number is a Disarium Number?"
   ]
  },
  {
   "cell_type": "code",
   "execution_count": 29,
   "metadata": {},
   "outputs": [
    {
     "name": "stdout",
     "output_type": "stream",
     "text": [
      "175 is a disarium number\n"
     ]
    }
   ],
   "source": [
    "def calculateLen(n):\n",
    "    length = 0;\n",
    "    while (n != 0):\n",
    "        length = length + 1\n",
    "        n = n // 10;\n",
    "    return length;\n",
    "\n",
    "\n",
    "num = int(input());\n",
    "rem = sum = 0;\n",
    "len = calculateLen(num);\n",
    "\n",
    "# to copy \n",
    "n = num\n",
    "\n",
    "# Calculate the sum of digits powered with their respective position\n",
    "while(num>0):\n",
    "    rem = num%10;\n",
    "    sum = sum + int(rem**len);\n",
    "    num = num//10;\n",
    "    len = len-1;\n",
    "\n",
    "\n",
    "\n",
    "\n",
    "# Check whether the sum is equal to the number itself\n",
    "if(sum == n):  \n",
    "    print(str(n) + \" is a disarium number\");  \n",
    "else:  \n",
    "    print(str(n) + \" is not a disarium number\");"
   ]
  },
  {
   "cell_type": "markdown",
   "metadata": {},
   "source": []
  },
  {
   "cell_type": "markdown",
   "metadata": {},
   "source": [
    "Q2. Write a Python program to print all disarium numbers between 1 to 100?"
   ]
  },
  {
   "cell_type": "code",
   "execution_count": 30,
   "metadata": {},
   "outputs": [
    {
     "name": "stdout",
     "output_type": "stream",
     "text": [
      "Disarium numbers between 1 to 100 are\n",
      "1\n",
      "2\n",
      "3\n",
      "4\n",
      "5\n",
      "6\n",
      "7\n",
      "8\n",
      "9\n",
      "89\n"
     ]
    }
   ],
   "source": [
    "def calculateLen(n):\n",
    "    length = 0;\n",
    "    while (n != 0):\n",
    "        length = length + 1\n",
    "        n = n // 10;\n",
    "    return length;\n",
    "\n",
    "\n",
    "def sumOfdigit(num):\n",
    "        rem = sum = 0;\n",
    "        len = calculateLen(num);\n",
    "\n",
    "# Calculate the sum of digits powered with their respective position\n",
    "        while(num>0):\n",
    "            rem = num%10;\n",
    "            sum = sum + (rem**len);\n",
    "            num = num//10;\n",
    "            len = len-1;\n",
    "\n",
    "        return sum;\n",
    "\n",
    "\n",
    "# Check whether the sum is equal to the number itself\n",
    "print(\"Disarium numbers between 1 to 100 are\");\n",
    "for i in range(1,101):\n",
    "    result = sumOfdigit(i);\n",
    "\n",
    "    if(result == i):\n",
    "        print(i),\n"
   ]
  },
  {
   "cell_type": "markdown",
   "metadata": {},
   "source": []
  },
  {
   "cell_type": "markdown",
   "metadata": {},
   "source": [
    "Q3. Write a Python program to check if the given number is Happy Number?"
   ]
  },
  {
   "cell_type": "code",
   "execution_count": 3,
   "metadata": {},
   "outputs": [
    {
     "name": "stdout",
     "output_type": "stream",
     "text": [
      "100is a happy number\n"
     ]
    }
   ],
   "source": [
    "def isHappyNum(num):\n",
    "    rem = sum = 0;\n",
    "\n",
    "    # Calculate the sum of squares of digits\n",
    "    while(num > 0):\n",
    "        rem = num % 10;\n",
    "        sum = sum + (rem*rem);\n",
    "        num = num//10;\n",
    "    return sum;\n",
    "\n",
    "num = int(input());\n",
    "result = num;\n",
    "\n",
    "while(result != 1 and result != 4):\n",
    "    result = isHappyNum(result);\n",
    "\n",
    "\n",
    "# happy number always ends with 1\n",
    "if(result == 1):\n",
    "    print(str(num) + \"is a happy number\");\n",
    "\n",
    "# unhappy number ends in cycle of repeating numbers which contain 4\n",
    "elif(result == 4):\n",
    "    print(str(num) + \" is not a happy number \");"
   ]
  },
  {
   "cell_type": "markdown",
   "metadata": {},
   "source": []
  },
  {
   "cell_type": "markdown",
   "metadata": {},
   "source": [
    "Q4. Write a Python program to print all happy numbers between 1 and 100?"
   ]
  },
  {
   "cell_type": "code",
   "execution_count": 8,
   "metadata": {},
   "outputs": [
    {
     "name": "stdout",
     "output_type": "stream",
     "text": [
      "List of happy numbers between 1 and 100: \n",
      "1\n",
      " \n",
      "7\n",
      " \n",
      "10\n",
      " \n",
      "13\n",
      " \n",
      "19\n",
      " \n",
      "23\n",
      " \n",
      "28\n",
      " \n",
      "31\n",
      " \n",
      "32\n",
      " \n",
      "44\n",
      " \n",
      "49\n",
      " \n",
      "68\n",
      " \n",
      "70\n",
      " \n",
      "79\n",
      " \n",
      "82\n",
      " \n",
      "86\n",
      " \n",
      "91\n",
      " \n",
      "94\n",
      " \n",
      "97\n",
      " \n",
      "100\n",
      " \n"
     ]
    }
   ],
   "source": [
    "def isHappyNum(num):    \n",
    "    rem = sum = 0;    \n",
    "        \n",
    "    #Calculates the sum of squares of digits    \n",
    "    while(num > 0):    \n",
    "        rem = num%10;    \n",
    "        sum = sum + (rem*rem);    \n",
    "        num = num//10;    \n",
    "    return sum;    \n",
    "            \n",
    "#Displays all happy numbers between 1 and 100    \n",
    "print(\"List of happy numbers between 1 and 100: \");    \n",
    "for i in range(1, 101):    \n",
    "    result = i;    \n",
    "        \n",
    "    #Happy number always ends with 1 and     \n",
    "    #unhappy number ends in a cycle of repeating numbers which contains 4    \n",
    "    while(result != 1 and result != 4):    \n",
    "        result = isHappyNum(result);    \n",
    "        \n",
    "    if(result == 1):    \n",
    "        print(i),    \n",
    "        print(\" \"),    "
   ]
  },
  {
   "cell_type": "markdown",
   "metadata": {},
   "source": []
  },
  {
   "cell_type": "markdown",
   "metadata": {},
   "source": [
    "Q5. Write a Python program to determine whether the given number is a Harshad Number?"
   ]
  },
  {
   "cell_type": "code",
   "execution_count": 11,
   "metadata": {},
   "outputs": [
    {
     "name": "stdout",
     "output_type": "stream",
     "text": [
      "156 is a harshad number\n"
     ]
    }
   ],
   "source": [
    "num = int(input());\n",
    "rem = sum = 0;\n",
    "\n",
    "# make a copy of num and store it in variable n\n",
    "n = num;\n",
    "\n",
    "# Calculate sum of digits \n",
    "while (num > 0):\n",
    "    rem = num % 10;\n",
    "    sum = sum + rem;\n",
    "    num = num // 10;\n",
    "\n",
    "# Check whether the number is divisible by the sum of digits\n",
    "if( n%sum == 0):\n",
    "    print(str(n) + \" is a harshad number\");\n",
    "else:\n",
    "    print(str(n) + \" is not harshad number\");"
   ]
  },
  {
   "cell_type": "markdown",
   "metadata": {},
   "source": []
  },
  {
   "cell_type": "markdown",
   "metadata": {},
   "source": [
    "Q6. Write a Python program to print all pronic numbers between 1 and 100?"
   ]
  },
  {
   "cell_type": "code",
   "execution_count": 12,
   "metadata": {},
   "outputs": [
    {
     "name": "stdout",
     "output_type": "stream",
     "text": [
      "Pronic numbers between 1 to 100 \n",
      "2\n",
      " \n",
      "6\n",
      " \n",
      "12\n",
      " \n",
      "20\n",
      " \n",
      "30\n",
      " \n",
      "42\n",
      " \n",
      "56\n",
      " \n",
      "72\n",
      " \n",
      "90\n",
      " \n"
     ]
    }
   ],
   "source": [
    "def isPronicNum(num):\n",
    "    flag = False;\n",
    "\n",
    "    for j in range(1, num+1):\n",
    "        # check for pronic number by multipyling consecutive numbers\n",
    "        if((j*(j+1))==num):\n",
    "            flag = True;\n",
    "            break;\n",
    "    return flag;\n",
    "\n",
    "# Display pronic numbers between 1 to 100\n",
    "print(\"Pronic numbers between 1 to 100 \")\n",
    "for i in range(1, 101):\n",
    "    if(isPronicNum(i)):\n",
    "        print(i),\n",
    "        print(\" \"),"
   ]
  }
 ],
 "metadata": {
  "kernelspec": {
   "display_name": "Python 3.7.13 ('base')",
   "language": "python",
   "name": "python3"
  },
  "language_info": {
   "codemirror_mode": {
    "name": "ipython",
    "version": 3
   },
   "file_extension": ".py",
   "mimetype": "text/x-python",
   "name": "python",
   "nbconvert_exporter": "python",
   "pygments_lexer": "ipython3",
   "version": "3.7.13"
  },
  "orig_nbformat": 4,
  "vscode": {
   "interpreter": {
    "hash": "24608bd683b051a8a00de506f187d3296bd49eaad6488801ac20452f8ab7f35a"
   }
  }
 },
 "nbformat": 4,
 "nbformat_minor": 2
}
