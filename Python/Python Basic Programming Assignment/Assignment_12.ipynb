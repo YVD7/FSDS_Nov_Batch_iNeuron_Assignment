{
 "cells": [
  {
   "cell_type": "markdown",
   "metadata": {},
   "source": [
    "# Assignment 12"
   ]
  },
  {
   "cell_type": "markdown",
   "metadata": {},
   "source": []
  },
  {
   "cell_type": "markdown",
   "metadata": {},
   "source": [
    "Q1. Write a Python program to Extract Unique values dictionary values?"
   ]
  },
  {
   "cell_type": "code",
   "execution_count": 1,
   "metadata": {},
   "outputs": [
    {
     "name": "stdout",
     "output_type": "stream",
     "text": [
      "the original dictionary is :{'abc': [1, 2, 3, 4], 'def': [10, 23, 53, 4], 'ghi': [23, 343, 23, 5], 'nest': [23, 545, 6]}\n",
      "The unique values list is: [1, 2, 3, 4, 5, 6, 10, 23, 53, 343, 545]\n"
     ]
    }
   ],
   "source": [
    "# initializing the dictionary\n",
    "test_dict = {'abc':[1,2,3,4],\n",
    "             'def':[10,23,53,4],\n",
    "             'ghi':[23,343,23,5],\n",
    "             'nest':[23,545,6]\n",
    "             }\n",
    "\n",
    "# printing original dictionary\n",
    "print(\"the original dictionary is :\" + str(test_dict))\n",
    "\n",
    "# extract Unique values dictionary values\n",
    "# using set comprehension + values() + sorted()\n",
    "res = list(sorted({ele for val in test_dict.values() for ele in val}))\n",
    "\n",
    "# print result\n",
    "print(\"The unique values list is: \"+ str(res))\n"
   ]
  },
  {
   "cell_type": "markdown",
   "metadata": {},
   "source": []
  },
  {
   "cell_type": "markdown",
   "metadata": {},
   "source": [
    "Q2. Write a Python program to find the sum of all items in a dictionary?"
   ]
  },
  {
   "cell_type": "code",
   "execution_count": 2,
   "metadata": {},
   "outputs": [
    {
     "name": "stdout",
     "output_type": "stream",
     "text": [
      "The sum of all items in dictionary is : 1068\n"
     ]
    }
   ],
   "source": [
    "# intiating the dictioanry\n",
    "test_dict = {'abc':[1,2,3,4],\n",
    "             'def':[10,23,53,4],\n",
    "             'ghi':[23,343,23,5],\n",
    "             'nest':[23,545,6]\n",
    "            }\n",
    "\n",
    "sum = 0\n",
    "for ele in test_dict.values(): # Calling first list which are values of keys from the dictinary\n",
    "    for i in ele: # now calling all the integer values from each list\n",
    "        sum +=i  # now sumation of all integer values \n",
    "\n",
    "               \n",
    "# print the result\n",
    "print(\"The sum of all items in dictionary is :\",sum)"
   ]
  },
  {
   "cell_type": "markdown",
   "metadata": {},
   "source": []
  },
  {
   "cell_type": "markdown",
   "metadata": {},
   "source": [
    "Q3. Write a Python program to Merging two Dictionaries?"
   ]
  },
  {
   "cell_type": "code",
   "execution_count": 3,
   "metadata": {},
   "outputs": [
    {
     "name": "stdout",
     "output_type": "stream",
     "text": [
      "Dictionary :  {'sdf': 23, 'gfg': 'ere', 'sd': [23, 3, 24, 4], 'sf': {'sdf': 'pro', 'hf': 223}}\n"
     ]
    }
   ],
   "source": [
    "# initializing dictionaries\n",
    "\n",
    "dict1 = {'sdf':23,'gfg':'ere','sd':[23,3,24,4]}\n",
    "dict2 = {\"sf\":{\"sdf\":\"sd\",'sdf':\"pro\",\"hf\":223}}\n",
    "\n",
    "# expression\n",
    "def Merge(dict1,dict2): # creating the \"Merge\" function to merge the dictionaries\n",
    "   res = {**dict1, **dict2} # passing multiple arugments of dictionaries\n",
    "   return res\n",
    "\n",
    "dict3 = Merge(dict1,dict2) # dirver code\n",
    "print(\"Dictionary : \",dict3) # printing the result"
   ]
  },
  {
   "cell_type": "markdown",
   "metadata": {},
   "source": []
  },
  {
   "cell_type": "markdown",
   "metadata": {},
   "source": [
    "Q4. Write a Python program to convert key-values list to flat dictionary?"
   ]
  },
  {
   "cell_type": "code",
   "execution_count": 10,
   "metadata": {},
   "outputs": [
    {
     "name": "stdout",
     "output_type": "stream",
     "text": [
      "{1: 'Mon', 2: 'Tues', 3: 'Wed'}\n"
     ]
    }
   ],
   "source": [
    "from itertools import product\n",
    "\n",
    "dic= { \"day\": [1, 2, 3], \"name\": ['Mon', 'Tues', 'Wed' ] } # Creating dictionary\n",
    "\n",
    "x = dict(zip(dic['day'],dic['name'])) # using zip() + dict() to flattened the dictionary\n",
    "print(x) # pfinting the result\n"
   ]
  },
  {
   "cell_type": "markdown",
   "metadata": {},
   "source": []
  },
  {
   "cell_type": "markdown",
   "metadata": {},
   "source": [
    "Q5. Write a Python program to insertion at the beginning in OrderedDict?"
   ]
  },
  {
   "cell_type": "code",
   "execution_count": 12,
   "metadata": {},
   "outputs": [
    {
     "name": "stdout",
     "output_type": "stream",
     "text": [
      "Reuslt Dictionary : \n",
      "OrderedDict([('D', '400'), ('A', '100'), ('B', '200'), ('c', '300')])\n"
     ]
    }
   ],
   "source": [
    "from collections import OrderedDict\n",
    "dict1 = OrderedDict([('A','100'),('B','200'),('c','300')]) # intializing dictionary\n",
    "insrt = OrderedDict([(\"D\",'400')]) # inserting the dictionary\n",
    "\n",
    "final = OrderedDict(list(insrt.items()) + list(dict1.items())) \n",
    "\n",
    "# print result\n",
    "print(\"Reuslt Dictionary : \")\n",
    "print(final)"
   ]
  },
  {
   "cell_type": "markdown",
   "metadata": {},
   "source": []
  },
  {
   "cell_type": "markdown",
   "metadata": {},
   "source": [
    "Q6. Write a Python program to check order of character in string using OrderedDict()?"
   ]
  },
  {
   "cell_type": "code",
   "execution_count": 14,
   "metadata": {},
   "outputs": [
    {
     "name": "stdout",
     "output_type": "stream",
     "text": [
      "False\n",
      "True\n"
     ]
    }
   ],
   "source": [
    "from collections import OrderedDict\n",
    "def checkOrder(string,pattern):\n",
    "    dic = OrderedDict.fromkeys(string)\n",
    "    ptr = 0\n",
    "    for key, value in dic.items():\n",
    "        if (key == pattern[ptr]):\n",
    "            ptr += 1\n",
    "        if (ptr == (len(pattern))):\n",
    "            return 'True'\n",
    "    return 'False'\n",
    "\n",
    "string = 'Study tonight'\n",
    "pattern = 'stu'\n",
    "print(checkOrder(string,pattern))\n",
    "\n",
    "string2 = 'Welcome'\n",
    "pattern2 = 'cm'\n",
    "print(checkOrder(string2, pattern2))"
   ]
  },
  {
   "cell_type": "markdown",
   "metadata": {},
   "source": []
  },
  {
   "cell_type": "markdown",
   "metadata": {},
   "source": [
    "Q7. Write a Python program to sort Python Dictionaries by Key or Value?"
   ]
  },
  {
   "cell_type": "code",
   "execution_count": 15,
   "metadata": {},
   "outputs": [
    {
     "name": "stdout",
     "output_type": "stream",
     "text": [
      "Original dictionary:  {'A': 2, 'B': 5, 'C': 10, 'D': 6}\n",
      "Sorted dicitonary: \n",
      "{'A': 2, 'B': 5, 'D': 6, 'C': 10}\n"
     ]
    }
   ],
   "source": [
    "dic= {'A': 2, 'B': 5, 'C': 10, 'D': 6 }\n",
    "\n",
    "print(\"Original dictionary: \",dic)\n",
    "\n",
    "sorted_list = sorted(dic.items(), key=lambda item: item[1])\n",
    "\n",
    "sorted_dic= {key:val for key, val in sorted_list}\n",
    "\n",
    "print(\"Sorted dicitonary: \")\n",
    "print(sorted_dic)"
   ]
  }
 ],
 "metadata": {
  "kernelspec": {
   "display_name": "Python 3.7.13 ('base')",
   "language": "python",
   "name": "python3"
  },
  "language_info": {
   "codemirror_mode": {
    "name": "ipython",
    "version": 3
   },
   "file_extension": ".py",
   "mimetype": "text/x-python",
   "name": "python",
   "nbconvert_exporter": "python",
   "pygments_lexer": "ipython3",
   "version": "3.7.13"
  },
  "orig_nbformat": 4,
  "vscode": {
   "interpreter": {
    "hash": "24608bd683b051a8a00de506f187d3296bd49eaad6488801ac20452f8ab7f35a"
   }
  }
 },
 "nbformat": 4,
 "nbformat_minor": 2
}
