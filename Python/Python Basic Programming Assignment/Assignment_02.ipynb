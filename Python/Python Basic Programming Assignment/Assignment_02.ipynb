{
 "cells": [
  {
   "cell_type": "markdown",
   "metadata": {},
   "source": [
    "# Assignment 02"
   ]
  },
  {
   "cell_type": "markdown",
   "metadata": {},
   "source": []
  },
  {
   "cell_type": "markdown",
   "metadata": {},
   "source": [
    "Q1. Write a Python program to convert kilometers to miles?"
   ]
  },
  {
   "cell_type": "code",
   "execution_count": 1,
   "metadata": {},
   "outputs": [
    {
     "name": "stdout",
     "output_type": "stream",
     "text": [
      "The speed value of car Miles: 32.311292\n"
     ]
    }
   ],
   "source": [
    "# Example 1\n",
    "\n",
    "kilometer_1 = float(input(\"Please enter the speed of car in kilometers as unit: \"))\n",
    "conversion_ration_1 =  0.621371 \n",
    "miles_1 = kilometer_1* conversion_ration_1\n",
    "print(\"The speed value of car Miles:\", miles_1)"
   ]
  },
  {
   "cell_type": "code",
   "execution_count": 2,
   "metadata": {},
   "outputs": [
    {
     "name": "stdout",
     "output_type": "stream",
     "text": [
      "The speed value of car in Miles:  32.311292\n"
     ]
    }
   ],
   "source": [
    "# Example 2\n",
    "\n",
    "def kilometer_1(km):\n",
    "    conversion_ration_1 =  0.621371 \n",
    "    miles_1 = km* conversion_ration_1\n",
    "    print(\"The speed value of car in Miles: \", miles_1)\n",
    "km = float(input(\"Please enter the speed of car in kilometer as unit: \"))\n",
    "kilometer_1(km)"
   ]
  },
  {
   "cell_type": "markdown",
   "metadata": {},
   "source": []
  },
  {
   "cell_type": "markdown",
   "metadata": {},
   "source": [
    "Q2. Write a Python program to convert Celsius to Fahrenheit?"
   ]
  },
  {
   "cell_type": "code",
   "execution_count": 4,
   "metadata": {},
   "outputs": [
    {
     "name": "stdout",
     "output_type": "stream",
     "text": [
      "The 153.00 degree Celsius is equal to: 307.40 Fahrenheit\n",
      "__OR__\n",
      "The 452.00 degree Celsius is equal to: 845.60 Farhrenheit\n"
     ]
    }
   ],
   "source": [
    "# Example 1\n",
    "\n",
    "celsius = float(input('Temp in Degree Celsius: '))\n",
    "\n",
    "# For converting the tempearature to degree Fahrenheit by using The formula\n",
    "Fahrenheit = (celsius * 1.8) + 32\n",
    "\n",
    "# print the result \n",
    "print('The %.2f degree Celsius is equal to: %.2f Fahrenheit'%(celsius,Fahrenheit))\n",
    "\n",
    "print(\"__OR__\")\n",
    "\n",
    "celsius_2 = float(input('Temp value in degree Celsius: '))\n",
    "Fahrenheit_2 = (celsius_2*9/5)+32\n",
    "\n",
    "#print the result\n",
    "print('The %.2f degree Celsius is equal to: %.2f Farhrenheit'%(celsius_2,Fahrenheit_2))"
   ]
  },
  {
   "cell_type": "code",
   "execution_count": 5,
   "metadata": {},
   "outputs": [
    {
     "name": "stdout",
     "output_type": "stream",
     "text": [
      "The 15.00 degree Farhrenheit is equal to: -9.44 Celsius\n",
      "__OR__\n",
      "The 68.00 degree Farhrenheit is equal to :  20.00 Celsius\n"
     ]
    }
   ],
   "source": [
    "# Example 2\n",
    "\n",
    "Fahrenheit_1 = float(input('Temperature value in degree Fahrenheit : '))\n",
    "\n",
    "# For converting the temperature from degree Farhrenheit to degree Celsius\n",
    "# By using the formula\n",
    "\n",
    "celsius_1 = (Fahrenheit_1 -32) / 1.8\n",
    "\n",
    "# print the result\n",
    "print('The %.2f degree Farhrenheit is equal to: %.2f Celsius'%(Fahrenheit_1, celsius_1))\n",
    "\n",
    "\n",
    "print(\"__OR__\")\n",
    "\n",
    "Fahrenheit_2 = float(input('Temperature value in degree Farhreheit: '))\n",
    "celsius_2 = (Fahrenheit_2 - 32) *5/9\n",
    "\n",
    "# print the result\n",
    "print('The %.2f degree Farhrenheit is equal to : % .2f Celsius'%(Fahrenheit_2,celsius_2))"
   ]
  },
  {
   "cell_type": "markdown",
   "metadata": {},
   "source": []
  },
  {
   "cell_type": "markdown",
   "metadata": {},
   "source": [
    "Q3. Write a python program to display calender?"
   ]
  },
  {
   "cell_type": "code",
   "execution_count": 7,
   "metadata": {},
   "outputs": [
    {
     "name": "stdout",
     "output_type": "stream",
     "text": [
      "    October 1995\n",
      "Mo Tu We Th Fr Sa Su\n",
      "                   1\n",
      " 2  3  4  5  6  7  8\n",
      " 9 10 11 12 13 14 15\n",
      "16 17 18 19 20 21 22\n",
      "23 24 25 26 27 28 29\n",
      "30 31\n",
      "\n"
     ]
    }
   ],
   "source": [
    "import calendar\n",
    "\n",
    "yy = 1995 # year\n",
    "mm = 10   # month\n",
    "\n",
    "print(calendar.month(yy,mm))"
   ]
  },
  {
   "cell_type": "markdown",
   "metadata": {},
   "source": []
  },
  {
   "cell_type": "markdown",
   "metadata": {},
   "source": [
    "Q4. Write a Python program to solve quadratic equation?"
   ]
  },
  {
   "cell_type": "code",
   "execution_count": 8,
   "metadata": {},
   "outputs": [
    {
     "name": "stdout",
     "output_type": "stream",
     "text": [
      "The solution are (-0.5-3.3090784215548594j) and (-0.5+3.3090784215548594j)\n"
     ]
    }
   ],
   "source": [
    "import cmath\n",
    "\n",
    "a = float(input())\n",
    "b = float(input())\n",
    "c = float(input())\n",
    "\n",
    "# calculate the discrimininat \n",
    "d = (b**2) - (4 * a *c)\n",
    "\n",
    "# find two solutions\n",
    "\n",
    "sol1  = (-b-cmath.sqrt(d))/(2*a)\n",
    "sol2 = (-b+cmath.sqrt(d))/(2*a)\n",
    "\n",
    "print('The solution are {0} and {1}'.format(sol1,sol2))"
   ]
  },
  {
   "cell_type": "markdown",
   "metadata": {},
   "source": []
  },
  {
   "cell_type": "markdown",
   "metadata": {},
   "source": [
    "Q5. Write a Python program to swap two variables without temp variable?"
   ]
  },
  {
   "cell_type": "code",
   "execution_count": 9,
   "metadata": {},
   "outputs": [
    {
     "name": "stdout",
     "output_type": "stream",
     "text": [
      "Before swapping: \n",
      "Value of a:  5  and c:  7\n",
      "After swapping: \n",
      "Value of a:  7  and c:  5\n"
     ]
    }
   ],
   "source": [
    "a = 5\n",
    "c = 7\n",
    "\n",
    "print(\"Before swapping: \")\n",
    "print(\"Value of a: \",a, \" and c: \", c)\n",
    "\n",
    "# code to swap  'a' and 'c'\n",
    "\n",
    "a,c = c,a\n",
    "\n",
    "print(\"After swapping: \")\n",
    "print(\"Value of a: \", a, \" and c: \", c)"
   ]
  },
  {
   "cell_type": "code",
   "execution_count": null,
   "metadata": {},
   "outputs": [],
   "source": []
  }
 ],
 "metadata": {
  "kernelspec": {
   "display_name": "Python 3.7.13 ('base')",
   "language": "python",
   "name": "python3"
  },
  "language_info": {
   "codemirror_mode": {
    "name": "ipython",
    "version": 3
   },
   "file_extension": ".py",
   "mimetype": "text/x-python",
   "name": "python",
   "nbconvert_exporter": "python",
   "pygments_lexer": "ipython3",
   "version": "3.7.13"
  },
  "orig_nbformat": 4,
  "vscode": {
   "interpreter": {
    "hash": "24608bd683b051a8a00de506f187d3296bd49eaad6488801ac20452f8ab7f35a"
   }
  }
 },
 "nbformat": 4,
 "nbformat_minor": 2
}
