{
 "cells": [
  {
   "cell_type": "markdown",
   "metadata": {},
   "source": [
    "# Assignment 13"
   ]
  },
  {
   "cell_type": "markdown",
   "metadata": {},
   "source": []
  },
  {
   "cell_type": "markdown",
   "metadata": {},
   "source": [
    "Q1. What advantages do Excel spreadsheets have over CSV spreadsheets?\n",
    "\n",
    "Ans: Advantages of Excel over CSV are:\n",
    "\n",
    "1.Excel (XLS and XLSX) file formats are better for storing and analysing complex data.\n",
    "\n",
    "2.An Excel not only stores data but can also operation on the data using macros, formula etc\n",
    "\n",
    "3.CSV files are plain-text files, Does not contain formatting, formulas, macros, etc. It is also known as flat files"
   ]
  },
  {
   "cell_type": "markdown",
   "metadata": {},
   "source": []
  },
  {
   "cell_type": "markdown",
   "metadata": {},
   "source": [
    "Q2.What do you pass to csv.reader() and csv.writer() to create reader and writer objects?"
   ]
  },
  {
   "cell_type": "code",
   "execution_count": null,
   "metadata": {},
   "outputs": [],
   "source": [
    "import csv\n",
    "with open('text.csv','r') as file:\n",
    "    csv_file = csv.reader(file, delimiter=',')\n",
    "    for ele in csv_file:\n",
    "        print(ele)"
   ]
  },
  {
   "cell_type": "markdown",
   "metadata": {},
   "source": []
  },
  {
   "cell_type": "markdown",
   "metadata": {},
   "source": [
    "Q3. What modes do File objects for reader and writer objects need to be opened in?\n",
    "\n",
    "Ans: For csv.reader(iterable_file_object), the file objects needed to be opened in read mode mode = 'r' Where as for csv.writer(iterable_file_object) the file objects needed to be opened in wirter mode mode='w'."
   ]
  },
  {
   "cell_type": "markdown",
   "metadata": {},
   "source": []
  },
  {
   "cell_type": "markdown",
   "metadata": {},
   "source": [
    "Q4. What method takes a list argument and writes it to a CSV file?\n",
    "\n",
    "Ans: csv.writer class provides two methods for writing to CSV. They are writerow() and writerows(). wirterow() method writes a single row at time. Whereas writerows() method is used to wirte multiple rows at a time."
   ]
  },
  {
   "cell_type": "code",
   "execution_count": null,
   "metadata": {},
   "outputs": [],
   "source": [
    "# Example Program\n",
    "import csv\n",
    "fields = ['Name', 'Branch', 'Year','CGPA'] #column names\n",
    "rows = [\n",
    "    ['Nikhil','COE','2','9.0'] #data rows of csv file\n",
    "    ['Sanhit', 'COE', '2','9.1'],\n",
    "    ['Ravi', 'IT', '2', '9.3']\n",
    "]\n",
    "\n",
    "with open(\"university_records.csv\", 'w') as csvfile:\n",
    "    csvwriter = csv.writer(csvfile) # creating a csv writer object\n",
    "    csvwriter.writerow(fields) # writing the fields\n",
    "    csvwriter.writerows(rows) # writing the data rows   "
   ]
  },
  {
   "cell_type": "markdown",
   "metadata": {},
   "source": []
  },
  {
   "cell_type": "markdown",
   "metadata": {},
   "source": [
    "Q5. What do the keyword arguments delimiter and line terminator do?\n",
    "\n",
    "Ans: Lets take the example of a csv file:\n",
    "\n",
    "First Name, Last Name, Age\n",
    "\n",
    "Mano, Vishnu, 24\n",
    "\n",
    "Vishnu, Vardhan, 21\n",
    "\n",
    "Here ',' is Delimiter. We can use any Character as per our needs if required. Similarly Line Terminator comes at end of line by default it is newline and can be chagned accounting to Requirement."
   ]
  },
  {
   "cell_type": "markdown",
   "metadata": {},
   "source": []
  },
  {
   "cell_type": "markdown",
   "metadata": {},
   "source": [
    "Q6. What function takes a string of JSON data and returns a Python data structure?\n",
    "\n",
    "Ans: loads() method takes a string of JSON data and returns a Python data structure."
   ]
  },
  {
   "cell_type": "code",
   "execution_count": 3,
   "metadata": {},
   "outputs": [
    {
     "name": "stdout",
     "output_type": "stream",
     "text": [
      "{\n",
      "    \"Name\": \"Mano Vishnu\",\n",
      "    \"Qualifiaction\":\"Bacholer of Technology\",\n",
      "    \"Stream\": \"Computer Science and Engineering\"\n",
      "}\n",
      "\n",
      "Type of my_details_json is <class 'str'>\n",
      "{'Name': 'Mano Vishnu', 'Qualifiaction': 'Bacholer of Technology', 'Stream': 'Computer Science and Engineering'}\n",
      "Type of my_details is <class 'dict'>\n"
     ]
    }
   ],
   "source": [
    "#  Example\n",
    "\n",
    "import json\n",
    "my_details_json='''{\n",
    "    \"Name\": \"Mano Vishnu\",\n",
    "    \"Qualifiaction\":\"Bacholer of Technology\",\n",
    "    \"Stream\": \"Computer Science and Engineering\"\n",
    "}\n",
    "'''\n",
    "\n",
    "print(my_details_json)\n",
    "print(f'Type of my_details_json is {type(my_details_json)}')\n",
    "my_details = json.loads(my_details_json)\n",
    "print(my_details)\n",
    "print(f'Type of my_details is {type(my_details)}')"
   ]
  },
  {
   "cell_type": "markdown",
   "metadata": {},
   "source": []
  },
  {
   "cell_type": "markdown",
   "metadata": {},
   "source": [
    "Q7. What function takes a Python data structure and returns a string of JSON data?\n",
    "\n",
    "\n",
    "Ans: dumps() method takes a python data structure and return a string of JSON"
   ]
  },
  {
   "cell_type": "code",
   "execution_count": 4,
   "metadata": {},
   "outputs": [
    {
     "name": "stdout",
     "output_type": "stream",
     "text": [
      "{'Name': 'Mano Vishnu', 'Stream': 'Computer Science and Engineering', 'Qualification': 'Bachelor of Technology'}\n",
      "Type of my_details is <class 'dict'>\n",
      "{\n",
      "    \"Name\": \"Mano Vishnu\",\n",
      "    \"Qualification\": \"Bachelor of Technology\",\n",
      "    \"Stream\": \"Computer Science and Engineering\"\n",
      "}\n",
      "Type of my_details_json is <class 'str'>\n"
     ]
    }
   ],
   "source": [
    "# Example of json.dumps() methods\n",
    "import json\n",
    "my_details = {\n",
    "    'Name': 'Mano Vishnu',\n",
    "    'Stream' : 'Computer Science and Engineering',\n",
    "    'Qualification': 'Bachelor of Technology'\n",
    "}\n",
    "\n",
    "print(my_details)\n",
    "print(f'Type of my_details is {type(my_details)}')\n",
    "my_details_json  = json.dumps(my_details, indent=4,sort_keys=True)\n",
    "print(my_details_json)\n",
    "print(f'Type of my_details_json is {type(my_details_json)}')"
   ]
  }
 ],
 "metadata": {
  "kernelspec": {
   "display_name": "Python 3.7.13 ('base')",
   "language": "python",
   "name": "python3"
  },
  "language_info": {
   "codemirror_mode": {
    "name": "ipython",
    "version": 3
   },
   "file_extension": ".py",
   "mimetype": "text/x-python",
   "name": "python",
   "nbconvert_exporter": "python",
   "pygments_lexer": "ipython3",
   "version": "3.7.13"
  },
  "orig_nbformat": 4,
  "vscode": {
   "interpreter": {
    "hash": "24608bd683b051a8a00de506f187d3296bd49eaad6488801ac20452f8ab7f35a"
   }
  }
 },
 "nbformat": 4,
 "nbformat_minor": 2
}
