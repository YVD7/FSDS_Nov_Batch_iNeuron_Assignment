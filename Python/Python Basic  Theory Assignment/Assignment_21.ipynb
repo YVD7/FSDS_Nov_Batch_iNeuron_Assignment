{
 "cells": [
  {
   "cell_type": "markdown",
   "metadata": {},
   "source": [
    "# Assignment 21"
   ]
  },
  {
   "cell_type": "markdown",
   "metadata": {},
   "source": []
  },
  {
   "cell_type": "markdown",
   "metadata": {},
   "source": [
    "Q1. Add the current date to the text file today.txt as a string."
   ]
  },
  {
   "cell_type": "code",
   "execution_count": 1,
   "metadata": {},
   "outputs": [
    {
     "name": "stdout",
     "output_type": "stream",
     "text": [
      "01-09-2022\n"
     ]
    }
   ],
   "source": [
    "import datetime\n",
    "# Code to Add current date to the today.txt file\n",
    "file  = open('today.txt','w')\n",
    "file.write(datetime.datetime.now().strftime(\"%d-%m-%Y\"))\n",
    "# Code to read current date from today.txt file.\n",
    "file  = open('today.txt','r')\n",
    "print(file.read())\n",
    "file.close()"
   ]
  },
  {
   "cell_type": "markdown",
   "metadata": {},
   "source": []
  },
  {
   "cell_type": "markdown",
   "metadata": {},
   "source": [
    "Q2. Read the text file today.txt into the string today_string"
   ]
  },
  {
   "cell_type": "code",
   "execution_count": 2,
   "metadata": {},
   "outputs": [
    {
     "name": "stdout",
     "output_type": "stream",
     "text": [
      "01-09-2022\n"
     ]
    }
   ],
   "source": [
    "file = open('today.txt','r')\n",
    "today_string = file.read()\n",
    "print(today_string)"
   ]
  },
  {
   "cell_type": "markdown",
   "metadata": {},
   "source": []
  },
  {
   "cell_type": "markdown",
   "metadata": {},
   "source": [
    "Q3. Parse the date from today_string."
   ]
  },
  {
   "cell_type": "code",
   "execution_count": 3,
   "metadata": {},
   "outputs": [
    {
     "name": "stdout",
     "output_type": "stream",
     "text": [
      "2022-09-01 00:00:00\n"
     ]
    }
   ],
   "source": [
    "from datetime import datetime\n",
    "parsed_data = datetime.strptime(today_string, '%d-%m-%Y')\n",
    "print(parsed_data)"
   ]
  },
  {
   "cell_type": "markdown",
   "metadata": {},
   "source": []
  },
  {
   "cell_type": "markdown",
   "metadata": {},
   "source": [
    "Q4. List the files in your current directory"
   ]
  },
  {
   "cell_type": "code",
   "execution_count": 4,
   "metadata": {},
   "outputs": [
    {
     "name": "stdout",
     "output_type": "stream",
     "text": [
      "['Assignment_05.ipynb', 'Assignment_13.ipynb', 'Assignment_10.ipynb', 'Assignment_16.ipynb', 'Assignment_20.ipynb', 'Assignment_09.ipynb', 'Assignment_17.ipynb', 'Assignment_14.ipynb', 'Assignment_21.ipynb', 'Assignment_12.ipynb', 'Assignment_04.ipynb', 'Assignment_07.ipynb', 'Assignment_03.ipynb', 'Assignment_06.ipynb', 'Assignment_11.ipynb', 'Assignment_02.ipynb', 'Assignment_01.ipynb', 'Assignment_19.ipynb', 'today.txt', 'Assignment_18.ipynb', 'Assignment_08.ipynb', 'Assignment_15.ipynb']\n",
      "['Assignment_05.ipynb', 'Assignment_13.ipynb', 'Assignment_10.ipynb', 'Assignment_16.ipynb', 'Assignment_20.ipynb', 'Assignment_09.ipynb', 'Assignment_17.ipynb', 'Assignment_14.ipynb', 'Assignment_21.ipynb', 'Assignment_12.ipynb', 'Assignment_04.ipynb', 'Assignment_07.ipynb', 'Assignment_03.ipynb', 'Assignment_06.ipynb', 'Assignment_11.ipynb', 'Assignment_02.ipynb', 'Assignment_01.ipynb', 'Assignment_19.ipynb', 'today.txt', 'Assignment_18.ipynb', 'Assignment_08.ipynb', 'Assignment_15.ipynb']\n",
      "['Assignment_05.ipynb', 'Assignment_13.ipynb', 'Assignment_10.ipynb', 'Assignment_16.ipynb', 'Assignment_20.ipynb', 'Assignment_09.ipynb', 'Assignment_17.ipynb', 'Assignment_14.ipynb', 'Assignment_21.ipynb', 'Assignment_12.ipynb', 'Assignment_04.ipynb', 'Assignment_07.ipynb', 'Assignment_03.ipynb', 'Assignment_06.ipynb', 'Assignment_11.ipynb', 'Assignment_02.ipynb', 'Assignment_01.ipynb', 'Assignment_19.ipynb', 'today.txt', 'Assignment_18.ipynb', 'Assignment_08.ipynb', 'Assignment_15.ipynb']\n",
      "['Assignment_05.ipynb', 'Assignment_13.ipynb', 'Assignment_10.ipynb', 'Assignment_16.ipynb', 'Assignment_20.ipynb', 'Assignment_09.ipynb', 'Assignment_17.ipynb', 'Assignment_14.ipynb', 'Assignment_21.ipynb', 'Assignment_12.ipynb', 'Assignment_04.ipynb', 'Assignment_07.ipynb', 'Assignment_03.ipynb', 'Assignment_06.ipynb', 'Assignment_11.ipynb', 'Assignment_02.ipynb', 'Assignment_01.ipynb', 'Assignment_19.ipynb', 'today.txt', 'Assignment_18.ipynb', 'Assignment_08.ipynb', 'Assignment_15.ipynb']\n",
      "['Assignment_05.ipynb', 'Assignment_13.ipynb', 'Assignment_10.ipynb', 'Assignment_16.ipynb', 'Assignment_20.ipynb', 'Assignment_09.ipynb', 'Assignment_17.ipynb', 'Assignment_14.ipynb', 'Assignment_21.ipynb', 'Assignment_12.ipynb', 'Assignment_04.ipynb', 'Assignment_07.ipynb', 'Assignment_03.ipynb', 'Assignment_06.ipynb', 'Assignment_11.ipynb', 'Assignment_02.ipynb', 'Assignment_01.ipynb', 'Assignment_19.ipynb', 'today.txt', 'Assignment_18.ipynb', 'Assignment_08.ipynb', 'Assignment_15.ipynb']\n",
      "['Assignment_05.ipynb', 'Assignment_13.ipynb', 'Assignment_10.ipynb', 'Assignment_16.ipynb', 'Assignment_20.ipynb', 'Assignment_09.ipynb', 'Assignment_17.ipynb', 'Assignment_14.ipynb', 'Assignment_21.ipynb', 'Assignment_12.ipynb', 'Assignment_04.ipynb', 'Assignment_07.ipynb', 'Assignment_03.ipynb', 'Assignment_06.ipynb', 'Assignment_11.ipynb', 'Assignment_02.ipynb', 'Assignment_01.ipynb', 'Assignment_19.ipynb', 'today.txt', 'Assignment_18.ipynb', 'Assignment_08.ipynb', 'Assignment_15.ipynb']\n",
      "['Assignment_05.ipynb', 'Assignment_13.ipynb', 'Assignment_10.ipynb', 'Assignment_16.ipynb', 'Assignment_20.ipynb', 'Assignment_09.ipynb', 'Assignment_17.ipynb', 'Assignment_14.ipynb', 'Assignment_21.ipynb', 'Assignment_12.ipynb', 'Assignment_04.ipynb', 'Assignment_07.ipynb', 'Assignment_03.ipynb', 'Assignment_06.ipynb', 'Assignment_11.ipynb', 'Assignment_02.ipynb', 'Assignment_01.ipynb', 'Assignment_19.ipynb', 'today.txt', 'Assignment_18.ipynb', 'Assignment_08.ipynb', 'Assignment_15.ipynb']\n",
      "['Assignment_05.ipynb', 'Assignment_13.ipynb', 'Assignment_10.ipynb', 'Assignment_16.ipynb', 'Assignment_20.ipynb', 'Assignment_09.ipynb', 'Assignment_17.ipynb', 'Assignment_14.ipynb', 'Assignment_21.ipynb', 'Assignment_12.ipynb', 'Assignment_04.ipynb', 'Assignment_07.ipynb', 'Assignment_03.ipynb', 'Assignment_06.ipynb', 'Assignment_11.ipynb', 'Assignment_02.ipynb', 'Assignment_01.ipynb', 'Assignment_19.ipynb', 'today.txt', 'Assignment_18.ipynb', 'Assignment_08.ipynb', 'Assignment_15.ipynb']\n",
      "['Assignment_05.ipynb', 'Assignment_13.ipynb', 'Assignment_10.ipynb', 'Assignment_16.ipynb', 'Assignment_20.ipynb', 'Assignment_09.ipynb', 'Assignment_17.ipynb', 'Assignment_14.ipynb', 'Assignment_21.ipynb', 'Assignment_12.ipynb', 'Assignment_04.ipynb', 'Assignment_07.ipynb', 'Assignment_03.ipynb', 'Assignment_06.ipynb', 'Assignment_11.ipynb', 'Assignment_02.ipynb', 'Assignment_01.ipynb', 'Assignment_19.ipynb', 'today.txt', 'Assignment_18.ipynb', 'Assignment_08.ipynb', 'Assignment_15.ipynb']\n",
      "['Assignment_05.ipynb', 'Assignment_13.ipynb', 'Assignment_10.ipynb', 'Assignment_16.ipynb', 'Assignment_20.ipynb', 'Assignment_09.ipynb', 'Assignment_17.ipynb', 'Assignment_14.ipynb', 'Assignment_21.ipynb', 'Assignment_12.ipynb', 'Assignment_04.ipynb', 'Assignment_07.ipynb', 'Assignment_03.ipynb', 'Assignment_06.ipynb', 'Assignment_11.ipynb', 'Assignment_02.ipynb', 'Assignment_01.ipynb', 'Assignment_19.ipynb', 'today.txt', 'Assignment_18.ipynb', 'Assignment_08.ipynb', 'Assignment_15.ipynb']\n",
      "['Assignment_05.ipynb', 'Assignment_13.ipynb', 'Assignment_10.ipynb', 'Assignment_16.ipynb', 'Assignment_20.ipynb', 'Assignment_09.ipynb', 'Assignment_17.ipynb', 'Assignment_14.ipynb', 'Assignment_21.ipynb', 'Assignment_12.ipynb', 'Assignment_04.ipynb', 'Assignment_07.ipynb', 'Assignment_03.ipynb', 'Assignment_06.ipynb', 'Assignment_11.ipynb', 'Assignment_02.ipynb', 'Assignment_01.ipynb', 'Assignment_19.ipynb', 'today.txt', 'Assignment_18.ipynb', 'Assignment_08.ipynb', 'Assignment_15.ipynb']\n",
      "['Assignment_05.ipynb', 'Assignment_13.ipynb', 'Assignment_10.ipynb', 'Assignment_16.ipynb', 'Assignment_20.ipynb', 'Assignment_09.ipynb', 'Assignment_17.ipynb', 'Assignment_14.ipynb', 'Assignment_21.ipynb', 'Assignment_12.ipynb', 'Assignment_04.ipynb', 'Assignment_07.ipynb', 'Assignment_03.ipynb', 'Assignment_06.ipynb', 'Assignment_11.ipynb', 'Assignment_02.ipynb', 'Assignment_01.ipynb', 'Assignment_19.ipynb', 'today.txt', 'Assignment_18.ipynb', 'Assignment_08.ipynb', 'Assignment_15.ipynb']\n",
      "['Assignment_05.ipynb', 'Assignment_13.ipynb', 'Assignment_10.ipynb', 'Assignment_16.ipynb', 'Assignment_20.ipynb', 'Assignment_09.ipynb', 'Assignment_17.ipynb', 'Assignment_14.ipynb', 'Assignment_21.ipynb', 'Assignment_12.ipynb', 'Assignment_04.ipynb', 'Assignment_07.ipynb', 'Assignment_03.ipynb', 'Assignment_06.ipynb', 'Assignment_11.ipynb', 'Assignment_02.ipynb', 'Assignment_01.ipynb', 'Assignment_19.ipynb', 'today.txt', 'Assignment_18.ipynb', 'Assignment_08.ipynb', 'Assignment_15.ipynb']\n",
      "['Assignment_05.ipynb', 'Assignment_13.ipynb', 'Assignment_10.ipynb', 'Assignment_16.ipynb', 'Assignment_20.ipynb', 'Assignment_09.ipynb', 'Assignment_17.ipynb', 'Assignment_14.ipynb', 'Assignment_21.ipynb', 'Assignment_12.ipynb', 'Assignment_04.ipynb', 'Assignment_07.ipynb', 'Assignment_03.ipynb', 'Assignment_06.ipynb', 'Assignment_11.ipynb', 'Assignment_02.ipynb', 'Assignment_01.ipynb', 'Assignment_19.ipynb', 'today.txt', 'Assignment_18.ipynb', 'Assignment_08.ipynb', 'Assignment_15.ipynb']\n",
      "['Assignment_05.ipynb', 'Assignment_13.ipynb', 'Assignment_10.ipynb', 'Assignment_16.ipynb', 'Assignment_20.ipynb', 'Assignment_09.ipynb', 'Assignment_17.ipynb', 'Assignment_14.ipynb', 'Assignment_21.ipynb', 'Assignment_12.ipynb', 'Assignment_04.ipynb', 'Assignment_07.ipynb', 'Assignment_03.ipynb', 'Assignment_06.ipynb', 'Assignment_11.ipynb', 'Assignment_02.ipynb', 'Assignment_01.ipynb', 'Assignment_19.ipynb', 'today.txt', 'Assignment_18.ipynb', 'Assignment_08.ipynb', 'Assignment_15.ipynb']\n",
      "['Assignment_05.ipynb', 'Assignment_13.ipynb', 'Assignment_10.ipynb', 'Assignment_16.ipynb', 'Assignment_20.ipynb', 'Assignment_09.ipynb', 'Assignment_17.ipynb', 'Assignment_14.ipynb', 'Assignment_21.ipynb', 'Assignment_12.ipynb', 'Assignment_04.ipynb', 'Assignment_07.ipynb', 'Assignment_03.ipynb', 'Assignment_06.ipynb', 'Assignment_11.ipynb', 'Assignment_02.ipynb', 'Assignment_01.ipynb', 'Assignment_19.ipynb', 'today.txt', 'Assignment_18.ipynb', 'Assignment_08.ipynb', 'Assignment_15.ipynb']\n",
      "['Assignment_05.ipynb', 'Assignment_13.ipynb', 'Assignment_10.ipynb', 'Assignment_16.ipynb', 'Assignment_20.ipynb', 'Assignment_09.ipynb', 'Assignment_17.ipynb', 'Assignment_14.ipynb', 'Assignment_21.ipynb', 'Assignment_12.ipynb', 'Assignment_04.ipynb', 'Assignment_07.ipynb', 'Assignment_03.ipynb', 'Assignment_06.ipynb', 'Assignment_11.ipynb', 'Assignment_02.ipynb', 'Assignment_01.ipynb', 'Assignment_19.ipynb', 'today.txt', 'Assignment_18.ipynb', 'Assignment_08.ipynb', 'Assignment_15.ipynb']\n",
      "['Assignment_05.ipynb', 'Assignment_13.ipynb', 'Assignment_10.ipynb', 'Assignment_16.ipynb', 'Assignment_20.ipynb', 'Assignment_09.ipynb', 'Assignment_17.ipynb', 'Assignment_14.ipynb', 'Assignment_21.ipynb', 'Assignment_12.ipynb', 'Assignment_04.ipynb', 'Assignment_07.ipynb', 'Assignment_03.ipynb', 'Assignment_06.ipynb', 'Assignment_11.ipynb', 'Assignment_02.ipynb', 'Assignment_01.ipynb', 'Assignment_19.ipynb', 'today.txt', 'Assignment_18.ipynb', 'Assignment_08.ipynb', 'Assignment_15.ipynb']\n",
      "['Assignment_05.ipynb', 'Assignment_13.ipynb', 'Assignment_10.ipynb', 'Assignment_16.ipynb', 'Assignment_20.ipynb', 'Assignment_09.ipynb', 'Assignment_17.ipynb', 'Assignment_14.ipynb', 'Assignment_21.ipynb', 'Assignment_12.ipynb', 'Assignment_04.ipynb', 'Assignment_07.ipynb', 'Assignment_03.ipynb', 'Assignment_06.ipynb', 'Assignment_11.ipynb', 'Assignment_02.ipynb', 'Assignment_01.ipynb', 'Assignment_19.ipynb', 'today.txt', 'Assignment_18.ipynb', 'Assignment_08.ipynb', 'Assignment_15.ipynb']\n",
      "['Assignment_05.ipynb', 'Assignment_13.ipynb', 'Assignment_10.ipynb', 'Assignment_16.ipynb', 'Assignment_20.ipynb', 'Assignment_09.ipynb', 'Assignment_17.ipynb', 'Assignment_14.ipynb', 'Assignment_21.ipynb', 'Assignment_12.ipynb', 'Assignment_04.ipynb', 'Assignment_07.ipynb', 'Assignment_03.ipynb', 'Assignment_06.ipynb', 'Assignment_11.ipynb', 'Assignment_02.ipynb', 'Assignment_01.ipynb', 'Assignment_19.ipynb', 'today.txt', 'Assignment_18.ipynb', 'Assignment_08.ipynb', 'Assignment_15.ipynb']\n",
      "['Assignment_05.ipynb', 'Assignment_13.ipynb', 'Assignment_10.ipynb', 'Assignment_16.ipynb', 'Assignment_20.ipynb', 'Assignment_09.ipynb', 'Assignment_17.ipynb', 'Assignment_14.ipynb', 'Assignment_21.ipynb', 'Assignment_12.ipynb', 'Assignment_04.ipynb', 'Assignment_07.ipynb', 'Assignment_03.ipynb', 'Assignment_06.ipynb', 'Assignment_11.ipynb', 'Assignment_02.ipynb', 'Assignment_01.ipynb', 'Assignment_19.ipynb', 'today.txt', 'Assignment_18.ipynb', 'Assignment_08.ipynb', 'Assignment_15.ipynb']\n",
      "['Assignment_05.ipynb', 'Assignment_13.ipynb', 'Assignment_10.ipynb', 'Assignment_16.ipynb', 'Assignment_20.ipynb', 'Assignment_09.ipynb', 'Assignment_17.ipynb', 'Assignment_14.ipynb', 'Assignment_21.ipynb', 'Assignment_12.ipynb', 'Assignment_04.ipynb', 'Assignment_07.ipynb', 'Assignment_03.ipynb', 'Assignment_06.ipynb', 'Assignment_11.ipynb', 'Assignment_02.ipynb', 'Assignment_01.ipynb', 'Assignment_19.ipynb', 'today.txt', 'Assignment_18.ipynb', 'Assignment_08.ipynb', 'Assignment_15.ipynb']\n"
     ]
    }
   ],
   "source": [
    "import os\n",
    "for folders, subfolders, files in os.walk(os.getcwd()):\n",
    "    for file in files:\n",
    "        print(files)"
   ]
  },
  {
   "cell_type": "markdown",
   "metadata": {},
   "source": [
    "Q5. Create a list of all of the files in your parent directory (minimum five files should be available)."
   ]
  },
  {
   "cell_type": "code",
   "execution_count": 1,
   "metadata": {},
   "outputs": [
    {
     "data": {
      "text/plain": [
       "['Assignment_05.ipynb',\n",
       " 'Assignment_13.ipynb',\n",
       " 'Assignment_10.ipynb',\n",
       " 'Assignment_16.ipynb',\n",
       " 'Assignment_20.ipynb',\n",
       " 'Assignment_09.ipynb',\n",
       " 'Assignment_17.ipynb',\n",
       " 'Assignment_14.ipynb',\n",
       " 'Assignment_21.ipynb',\n",
       " 'Assignment_12.ipynb',\n",
       " 'Assignment_04.ipynb',\n",
       " 'Assignment_07.ipynb',\n",
       " 'Assignment_03.ipynb',\n",
       " 'Assignment_06.ipynb',\n",
       " 'Assignment_11.ipynb',\n",
       " 'Assignment_02.ipynb',\n",
       " 'Assignment_01.ipynb',\n",
       " 'Assignment_19.ipynb',\n",
       " 'today.txt',\n",
       " 'Assignment_18.ipynb',\n",
       " 'Assignment_08.ipynb',\n",
       " 'Assignment_15.ipynb']"
      ]
     },
     "execution_count": 1,
     "metadata": {},
     "output_type": "execute_result"
    }
   ],
   "source": [
    "import os\n",
    "os.listdir()"
   ]
  },
  {
   "cell_type": "markdown",
   "metadata": {},
   "source": []
  },
  {
   "cell_type": "markdown",
   "metadata": {},
   "source": [
    "Q6. Use multiprocessing to create three separate processes. Make each one wait a random number of seconds between one and five, print the current time, and then exit."
   ]
  },
  {
   "cell_type": "code",
   "execution_count": null,
   "metadata": {},
   "outputs": [],
   "source": [
    "import multiprocessing\n",
    "import time\n",
    "import random\n",
    "import datetime\n",
    "\n",
    "def procOne():\n",
    "    print(f'Proc_one_Starttime -> {datetime.datetime.now()}')\n",
    "    time.sleep(random.randit(1,5))\n",
    "    print(f'Proc_one_Estimate -> {datetime.datetime.now()}')\n",
    "\n",
    "def procTwo():\n",
    "    print(f'Proc_two_Startime -> {datetime.datetime.now()}')\n",
    "    time.sleep(random.randit(1,5))\n",
    "    print(f'Proc_two_Estimate -> {datetime.datetime.now()}')\n",
    "\n",
    "def procThree():\n",
    "    print(f'Proc_three_Startime -> {datetime.datetime.now()}')\n",
    "    time.sleep(random.randit(1,5))\n",
    "    print(f'Proc_three_Endtime -> {datetime.datetime.now()}')\n",
    "\n",
    "if __name__ == \"__main__\":\n",
    "    p1 = multiprocessing.Process(target=procOne)\n",
    "    p2 = multiprocessing.Process(target=procTwo)\n",
    "    p3 = multiprocessing.Process(target=procThree)\n",
    "\n",
    "    p1.start()\n",
    "    p2.start()\n",
    "    p3.start()\n",
    "\n",
    "    p1.join()\n",
    "    p2.join()\n",
    "    p3.join()"
   ]
  },
  {
   "cell_type": "markdown",
   "metadata": {},
   "source": []
  },
  {
   "cell_type": "markdown",
   "metadata": {},
   "source": [
    "Q7. Create a date object of your day of birth.\n"
   ]
  },
  {
   "cell_type": "code",
   "execution_count": 6,
   "metadata": {},
   "outputs": [
    {
     "name": "stdout",
     "output_type": "stream",
     "text": [
      "1995-07-10 00:00:00 <class 'datetime.datetime'>\n"
     ]
    }
   ],
   "source": [
    "from datetime import datetime\n",
    "my_dob = datetime.strptime('10/07/1995','%d/%m/%Y')\n",
    "print(my_dob, type(my_dob))"
   ]
  },
  {
   "cell_type": "markdown",
   "metadata": {},
   "source": []
  },
  {
   "cell_type": "markdown",
   "metadata": {},
   "source": [
    "Q8. What day of the week was your day of birth?"
   ]
  },
  {
   "cell_type": "code",
   "execution_count": 7,
   "metadata": {},
   "outputs": [
    {
     "data": {
      "text/plain": [
       "'Monday'"
      ]
     },
     "execution_count": 7,
     "metadata": {},
     "output_type": "execute_result"
    }
   ],
   "source": [
    "from datetime import datetime\n",
    "my_dob = datetime(1995,7,10)\n",
    "my_dob.strftime(\"%A\")"
   ]
  },
  {
   "cell_type": "markdown",
   "metadata": {},
   "source": []
  },
  {
   "cell_type": "markdown",
   "metadata": {},
   "source": [
    "Q9. When will you be (or when were you) 10,000 days old?"
   ]
  },
  {
   "cell_type": "code",
   "execution_count": 8,
   "metadata": {},
   "outputs": [
    {
     "data": {
      "text/plain": [
       "datetime.datetime(1968, 2, 22, 0, 0)"
      ]
     },
     "execution_count": 8,
     "metadata": {},
     "output_type": "execute_result"
    }
   ],
   "source": [
    "from datetime import datetime, timedelta\n",
    "my_dob = datetime.strptime(\"10/07/1995\",\"%d/%m/%Y\")\n",
    "future_date = my_dob-timedelta(10000)\n",
    "future_date"
   ]
  }
 ],
 "metadata": {
  "kernelspec": {
   "display_name": "Python 3.7.13 ('base')",
   "language": "python",
   "name": "python3"
  },
  "language_info": {
   "codemirror_mode": {
    "name": "ipython",
    "version": 3
   },
   "file_extension": ".py",
   "mimetype": "text/x-python",
   "name": "python",
   "nbconvert_exporter": "python",
   "pygments_lexer": "ipython3",
   "version": "3.7.13"
  },
  "orig_nbformat": 4,
  "vscode": {
   "interpreter": {
    "hash": "24608bd683b051a8a00de506f187d3296bd49eaad6488801ac20452f8ab7f35a"
   }
  }
 },
 "nbformat": 4,
 "nbformat_minor": 2
}
