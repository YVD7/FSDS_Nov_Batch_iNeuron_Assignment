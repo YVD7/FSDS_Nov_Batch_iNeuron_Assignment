{
 "cells": [
  {
   "cell_type": "markdown",
   "metadata": {},
   "source": [
    "# Assignment 10"
   ]
  },
  {
   "cell_type": "markdown",
   "metadata": {},
   "source": []
  },
  {
   "cell_type": "markdown",
   "metadata": {},
   "source": [
    "Q1. How do you distinguish between shutil.copy() and shutil.copytree()?\n",
    "\n",
    "Ans: shutil.copy() methods is used to copy the contents of a file from one file to another file/folder, it primary take two arguments src, dest, src represents the file to be copied where as destination refers to the file / folder to where the src data should copied, if dest is folder name the src the exact name will be   copied to the dest folder, if its a file then the contests of src will be copied to dest where dest retain it name.\n",
    "\n",
    "shutil.copytree() function is used to copy the entire contents of a folder to the other folder. it also takes two arguments src and dest, it copies all the content recursively and stores it in dest. The important catch here is dest must not exist prior to this and it will be created during the copy operation. Permissions and times of directories are copied shutil.copystat() and individual files are copied using shutil.copy2() by default which can be modified using copy_function attributes"
   ]
  },
  {
   "cell_type": "markdown",
   "metadata": {},
   "source": []
  },
  {
   "cell_type": "markdown",
   "metadata": {},
   "source": [
    "Q2. What function is used to rename files??\n",
    "\n",
    "Ans: os.rename() function is used to rename files or directories using to python program, this function takes two arguments src and dest, src represents the name file/directory which we want to rename, where as dest represents the name of file/directory."
   ]
  },
  {
   "cell_type": "markdown",
   "metadata": {},
   "source": []
  },
  {
   "cell_type": "markdown",
   "metadata": {},
   "source": [
    "Q3. What is the difference between the delete functions in the send2trash and shutil modules?\n",
    "\n",
    "Ans: The send2trash functions will move a file or folder to the recycle bin, while shutil functions will permanently delete files and folders."
   ]
  },
  {
   "cell_type": "markdown",
   "metadata": {},
   "source": []
  },
  {
   "cell_type": "markdown",
   "metadata": {},
   "source": [
    "Q4.ZipFile objects have a close() method just like File objects’ close() method. What ZipFile method is equivalent to File objects’ open() method?\n",
    "\n",
    "Ans: The zipfile.ZipFile() function is equivalent to the open() function; the first argument is the filename, and the second argument is the mode to open the ZIP file in (read, write, or append).\n"
   ]
  },
  {
   "cell_type": "markdown",
   "metadata": {},
   "source": []
  },
  {
   "cell_type": "markdown",
   "metadata": {},
   "source": [
    "Q5. Create a programme that searches a folder tree for files with a certain file extension (such as .pdf or .jpg). Copy these files from whatever location they are in to a new folder.\n"
   ]
  },
  {
   "cell_type": "code",
   "execution_count": 3,
   "metadata": {},
   "outputs": [],
   "source": [
    "\n",
    "import os\n",
    "import shutil\n",
    "\n",
    "def search_and_copy(source,destination,extensions):\n",
    "    source = os.path.abspath(source)\n",
    "    destination = os.path.abspath(destination)\n",
    "    for foldername, subfolder, filenames in os.walk(source):\n",
    "        print(f'Folder Name ➞ {foldername}',end='\\n\\n')\n",
    "        print(f'Sub Folders ➞ {subfolder}',end='\\n\\n')\n",
    "        print(f'Files ➞ {filenames}',end='\\n\\n')\n",
    "        for filename in filenames:\n",
    "            fileName,extension = os.path.splitext(filename)\n",
    "            if extension in extensions:\n",
    "                targetFile = foldername+os.path.sep+fileName+extension\n",
    "                shutil.copy(targetFile, destination)\n",
    "        print(f'Files copied successfully from {source} to {destination}')\n",
    "    \n",
    "extensions = ['.pdf','.jpg','.ipynb']\n",
    "source = 'Dummy Source'\n",
    "destination = 'Dummy Destination'\n",
    "search_and_copy(source, destination, extensions)"
   ]
  },
  {
   "cell_type": "markdown",
   "metadata": {},
   "source": [
    "Folder Name ➞ C:\\Users\\vishnu.adepu\\Documents\\iNeuron-Assignments\\Python Basic Assignment\\Dummy Source\n",
    "\n",
    "Sub Folders ➞ []\n",
    "\n",
    "Files ➞ ['01.Assignment_01.ipynb', '02.Assignment_02.ipynb', '03.Assignment_03.ipynb', '04.Assignment_04.ipynb', '05.Assignment_05.ipynb', '06.Assignment_06.ipynb', '07.Assignment_07.ipynb', '08.Assignment_08.ipynb', '09.Assignment_09.ipynb', '10.Assignment_10.ipynb', '11.Assignment_11.ipynb', '12.Assignment_12.ipynb', '13.Assignment_13.ipynb', '14.Assignment_14.ipynb', '15.Assignment_15.ipynb', '16.Assignment_16.ipynb', '17.Assignment_17.ipynb', '18.Assignment_18.ipynb', '19.Assignment_19.ipynb', '20.Assignment_20.ipynb', '21.Assignment_21.ipynb', '22.Assignment_22.ipynb', '23.Assignment_23.ipynb', '24.Assignment_24.ipynb', '25.Assignment_25.ipynb']\n",
    "\n",
    "Files copied successfully from C:\\Users\\vishnu.adepu\\Documents\\iNeuron-Assignments\\Python Basic Assignment\\Dummy Source to C:\\Users\\vishnu.adepu\\Documents\\iNeuron-Assignments\\Python Basic Assignment\\Dummy Destination"
   ]
  }
 ],
 "metadata": {
  "kernelspec": {
   "display_name": "Python 3.7.13 ('base')",
   "language": "python",
   "name": "python3"
  },
  "language_info": {
   "codemirror_mode": {
    "name": "ipython",
    "version": 3
   },
   "file_extension": ".py",
   "mimetype": "text/x-python",
   "name": "python",
   "nbconvert_exporter": "python",
   "pygments_lexer": "ipython3",
   "version": "3.7.13"
  },
  "orig_nbformat": 4,
  "vscode": {
   "interpreter": {
    "hash": "24608bd683b051a8a00de506f187d3296bd49eaad6488801ac20452f8ab7f35a"
   }
  }
 },
 "nbformat": 4,
 "nbformat_minor": 2
}
