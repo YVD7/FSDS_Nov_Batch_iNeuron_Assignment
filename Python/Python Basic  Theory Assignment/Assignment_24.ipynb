{
 "cells": [
  {
   "cell_type": "markdown",
   "metadata": {},
   "source": [
    "# Assignment 24"
   ]
  },
  {
   "cell_type": "markdown",
   "metadata": {},
   "source": []
  },
  {
   "cell_type": "markdown",
   "metadata": {},
   "source": [
    "Q1. What is the relationship between def statements and lambda expressions ?\n",
    "\n",
    "Ans: def statement is used to create a normal function. where as lambda expression are used to create Anonymous functions. which can be assigned to a variable an can be called using the variable later in fuction.\n",
    "\n",
    "Lambda's body is a single expression and not a block of statements like def statement. The lambda expression's body is similar to what we'd put in a def body's return statement. We simply type the result as an expression instead less general than a def statement."
   ]
  },
  {
   "cell_type": "markdown",
   "metadata": {},
   "source": []
  },
  {
   "cell_type": "markdown",
   "metadata": {},
   "source": [
    "Q2. What is the benefit of lambda?\n",
    "\n",
    "Ans: The Following are some of the benefits of lambda expressions:\n",
    "\n",
    "1. Can be used to create Nameless/Anonymous functions inside some complex fuctions if we are planning to use it only once.\n",
    "\n",
    "2. Moderate to small fuctions can be created in single line\n",
    "3. Function create using lambda expressions can be assiged to a variable and can be used by simply calling the variable"
   ]
  },
  {
   "cell_type": "markdown",
   "metadata": {},
   "source": []
  },
  {
   "cell_type": "markdown",
   "metadata": {},
   "source": [
    "Q3. Compare and contrast map, filter, and reduce.\n",
    "\n",
    "Ans: The differences between map, filter and reduce are:\n",
    "\n",
    "1. map(): The map() function is a type of higher-order. This function takes another function as a paramter along with a squences of iterables and returns an output after applying the fuction to each iterable present in the sequence.\n",
    "\n",
    "2. filter(): The filter() fuction is used to create an output list consisting of value for which the function retruns true.\n",
    "\n",
    "3. reduce(): The reduce() fuction, as name describes, applies a given fuction to the iterables and returns a single value"
   ]
  },
  {
   "cell_type": "code",
   "execution_count": 1,
   "metadata": {},
   "outputs": [
    {
     "name": "stdout",
     "output_type": "stream",
     "text": [
      "Map ->  [2, 4, 6, 8]\n",
      "Filter ->  [1, 3]\n",
      "Reduce ->  21\n"
     ]
    }
   ],
   "source": [
    "from functools import reduce\n",
    "\n",
    "# map fuction\n",
    "print('Map -> ', list(map(lambda x:x+x, [1,2,3,4])) )\n",
    "#filter fuction\n",
    "print('Filter -> ', list(filter(lambda x:x%2 !=0, [1,2,3,4])))\n",
    "#reduce fuction\n",
    "print('Reduce -> ', reduce(lambda x,y:x+y, [1,2,3,4,5,6]))"
   ]
  },
  {
   "cell_type": "markdown",
   "metadata": {},
   "source": []
  },
  {
   "cell_type": "markdown",
   "metadata": {},
   "source": [
    "Q4. What are function annotations, and how are they used?\n",
    "\n",
    "Ans: Function annotations provide a way of associating various parts of fuction with arbitrary pythonexpressions at compile time.\n",
    "\n",
    "Annotaitons of simple parameters def func(x: expression, y: expression = 20):\n",
    "\n",
    "Whereas teh annotations for excess parameters are as - def func(**args: expression, **kwargs: expression):"
   ]
  },
  {
   "cell_type": "markdown",
   "metadata": {},
   "source": []
  },
  {
   "cell_type": "markdown",
   "metadata": {},
   "source": [
    "Q5. What are recursive functions, and how are they used?\n",
    "\n",
    "Ans: A recursive function is a function that calls itself during its execution. The process may repeat several times, outputting the result and the end of each iteration."
   ]
  },
  {
   "cell_type": "markdown",
   "metadata": {},
   "source": []
  },
  {
   "cell_type": "markdown",
   "metadata": {},
   "source": [
    "Q6. What are some general design guidelines for coding functions?\n",
    "\n",
    "Ans: Some of the general design guidelines for coding functions are:\n",
    "\n",
    "1. Always use a docstring to explain the functionality of the function\n",
    "\n",
    "2. avoid using or limited use of global variables\n",
    "\n",
    "3. Proper Identation to increase the code readability\n",
    "\n",
    "4. try to follow a naming convention for function names (pascalCase or camelCase) and stick with the same convention throughout the application.\n",
    "\n",
    "5. Avoid using digits while choosing a variable name\n",
    "\n",
    "6. try to use a name for the function which conveys the purpose of the function\n",
    "\n",
    "7. Local variables should be named using camelCase format (ex: localVariable) whereas Global variables names should be using PascalCase (ex:GlobalVariable).\n",
    "8. Constant should be represented in allcaps (ex:CONSTANT)."
   ]
  },
  {
   "cell_type": "markdown",
   "metadata": {},
   "source": []
  },
  {
   "cell_type": "markdown",
   "metadata": {},
   "source": [
    "Q7. Name three or more ways that functions can communicate results to a caller.\n",
    "\n",
    "Ans: Some of the ways in which a function can communicate with the calling function is:\n",
    "\n",
    "1.print\n",
    "\n",
    "2.return\n",
    "\n",
    "3.yield"
   ]
  },
  {
   "cell_type": "code",
   "execution_count": null,
   "metadata": {},
   "outputs": [],
   "source": []
  }
 ],
 "metadata": {
  "kernelspec": {
   "display_name": "Python 3.8.10 64-bit",
   "language": "python",
   "name": "python3"
  },
  "language_info": {
   "codemirror_mode": {
    "name": "ipython",
    "version": 3
   },
   "file_extension": ".py",
   "mimetype": "text/x-python",
   "name": "python",
   "nbconvert_exporter": "python",
   "pygments_lexer": "ipython3",
   "version": "3.8.10"
  },
  "orig_nbformat": 4,
  "vscode": {
   "interpreter": {
    "hash": "916dbcbb3f70747c44a77c7bcd40155683ae19c65e1c03b4aa3499c5328201f1"
   }
  }
 },
 "nbformat": 4,
 "nbformat_minor": 2
}
